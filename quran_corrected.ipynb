{
 "cells": [
  {
   "cell_type": "raw",
   "metadata": {
    "vscode": {
     "languageId": "raw"
    }
   },
   "source": [
    "# Quranic Root Words Analysis\n",
    "\n",
    "This notebook analyzes unique root words in the Holy Quran, comparing vocabulary between Meccan and Medinan revelations.\n"
   ]
  },
  {
   "cell_type": "raw",
   "metadata": {
    "vscode": {
     "languageId": "raw"
    }
   },
   "source": [
    "## Setup and Data Loading\n"
   ]
  },
  {
   "cell_type": "code",
   "execution_count": 1,
   "metadata": {},
   "outputs": [
    {
     "name": "stdout",
     "output_type": "stream",
     "text": [
      "✅ Libraries imported successfully!\n"
     ]
    }
   ],
   "source": [
    "# Import required libraries\n",
    "import pandas as pd\n",
    "import numpy as np\n",
    "print(\"✅ Libraries imported successfully!\")\n"
   ]
  },
  {
   "cell_type": "code",
   "execution_count": 2,
   "metadata": {},
   "outputs": [
    {
     "name": "stdout",
     "output_type": "stream",
     "text": [
      "📥 Downloading morphological data...\n",
      "✅ Loaded 128219 entries\n"
     ]
    },
    {
     "data": {
      "text/html": [
       "<div>\n",
       "<style scoped>\n",
       "    .dataframe tbody tr th:only-of-type {\n",
       "        vertical-align: middle;\n",
       "    }\n",
       "\n",
       "    .dataframe tbody tr th {\n",
       "        vertical-align: top;\n",
       "    }\n",
       "\n",
       "    .dataframe thead th {\n",
       "        text-align: right;\n",
       "    }\n",
       "</style>\n",
       "<table border=\"1\" class=\"dataframe\">\n",
       "  <thead>\n",
       "    <tr style=\"text-align: right;\">\n",
       "      <th></th>\n",
       "      <th>LOCATION</th>\n",
       "      <th>FORM</th>\n",
       "      <th>TAG</th>\n",
       "      <th>FEATURES</th>\n",
       "    </tr>\n",
       "  </thead>\n",
       "  <tbody>\n",
       "    <tr>\n",
       "      <th>0</th>\n",
       "      <td>(1:1:1:1)</td>\n",
       "      <td>bi</td>\n",
       "      <td>P</td>\n",
       "      <td>PREFIX|bi+</td>\n",
       "    </tr>\n",
       "    <tr>\n",
       "      <th>1</th>\n",
       "      <td>(1:1:1:2)</td>\n",
       "      <td>somi</td>\n",
       "      <td>N</td>\n",
       "      <td>STEM|POS:N|LEM:{som|ROOT:smw|M|GEN</td>\n",
       "    </tr>\n",
       "    <tr>\n",
       "      <th>2</th>\n",
       "      <td>(1:1:2:1)</td>\n",
       "      <td>{ll~ahi</td>\n",
       "      <td>PN</td>\n",
       "      <td>STEM|POS:PN|LEM:{ll~ah|ROOT:Alh|GEN</td>\n",
       "    </tr>\n",
       "    <tr>\n",
       "      <th>3</th>\n",
       "      <td>(1:1:3:1)</td>\n",
       "      <td>{l</td>\n",
       "      <td>DET</td>\n",
       "      <td>PREFIX|Al+</td>\n",
       "    </tr>\n",
       "    <tr>\n",
       "      <th>4</th>\n",
       "      <td>(1:1:3:2)</td>\n",
       "      <td>r~aHoma`ni</td>\n",
       "      <td>ADJ</td>\n",
       "      <td>STEM|POS:ADJ|LEM:r~aHoma`n|ROOT:rHm|MS|GEN</td>\n",
       "    </tr>\n",
       "  </tbody>\n",
       "</table>\n",
       "</div>"
      ],
      "text/plain": [
       "    LOCATION        FORM  TAG                                    FEATURES\n",
       "0  (1:1:1:1)          bi    P                                  PREFIX|bi+\n",
       "1  (1:1:1:2)        somi    N          STEM|POS:N|LEM:{som|ROOT:smw|M|GEN\n",
       "2  (1:1:2:1)     {ll~ahi   PN         STEM|POS:PN|LEM:{ll~ah|ROOT:Alh|GEN\n",
       "3  (1:1:3:1)          {l  DET                                  PREFIX|Al+\n",
       "4  (1:1:3:2)  r~aHoma`ni  ADJ  STEM|POS:ADJ|LEM:r~aHoma`n|ROOT:rHm|MS|GEN"
      ]
     },
     "execution_count": 2,
     "metadata": {},
     "output_type": "execute_result"
    }
   ],
   "source": [
    "# Load morphological data from URL\n",
    "url = 'http://textminingthequran.com/data/quranic-corpus-morphology-0.4.txt'\n",
    "print(\"📥 Downloading morphological data...\")\n",
    "qdforiginal = pd.read_csv(url, sep='\\t', skiprows=56)\n",
    "print(f\"✅ Loaded {len(qdforiginal)} entries\")\n",
    "qdforiginal.head()\n"
   ]
  },
  {
   "cell_type": "code",
   "execution_count": 3,
   "metadata": {},
   "outputs": [
    {
     "name": "stdout",
     "output_type": "stream",
     "text": [
      "💾 Original data saved as quran-morphology-v1.csv\n"
     ]
    }
   ],
   "source": [
    "# Save original data locally\n",
    "qdforiginal.to_csv('quran-morphology-v1.csv')\n",
    "print(\"💾 Original data saved as quran-morphology-v1.csv\")\n"
   ]
  },
  {
   "cell_type": "raw",
   "metadata": {
    "vscode": {
     "languageId": "raw"
    }
   },
   "source": [
    "## Data Processing and Column Extraction\n"
   ]
  },
  {
   "cell_type": "code",
   "execution_count": 4,
   "metadata": {},
   "outputs": [
    {
     "name": "stdout",
     "output_type": "stream",
     "text": [
      "🔍 Filtering entries with ROOT information...\n",
      "Found 49968 entries with root information\n"
     ]
    },
    {
     "data": {
      "text/html": [
       "<div>\n",
       "<style scoped>\n",
       "    .dataframe tbody tr th:only-of-type {\n",
       "        vertical-align: middle;\n",
       "    }\n",
       "\n",
       "    .dataframe tbody tr th {\n",
       "        vertical-align: top;\n",
       "    }\n",
       "\n",
       "    .dataframe thead th {\n",
       "        text-align: right;\n",
       "    }\n",
       "</style>\n",
       "<table border=\"1\" class=\"dataframe\">\n",
       "  <thead>\n",
       "    <tr style=\"text-align: right;\">\n",
       "      <th></th>\n",
       "      <th>LOCATION</th>\n",
       "      <th>FORM</th>\n",
       "      <th>TAG</th>\n",
       "      <th>FEATURES</th>\n",
       "    </tr>\n",
       "  </thead>\n",
       "  <tbody>\n",
       "    <tr>\n",
       "      <th>1</th>\n",
       "      <td>(1:1:1:2)</td>\n",
       "      <td>somi</td>\n",
       "      <td>N</td>\n",
       "      <td>STEM|POS:N|LEM:{som|ROOT:smw|M|GEN</td>\n",
       "    </tr>\n",
       "    <tr>\n",
       "      <th>2</th>\n",
       "      <td>(1:1:2:1)</td>\n",
       "      <td>{ll~ahi</td>\n",
       "      <td>PN</td>\n",
       "      <td>STEM|POS:PN|LEM:{ll~ah|ROOT:Alh|GEN</td>\n",
       "    </tr>\n",
       "    <tr>\n",
       "      <th>4</th>\n",
       "      <td>(1:1:3:2)</td>\n",
       "      <td>r~aHoma`ni</td>\n",
       "      <td>ADJ</td>\n",
       "      <td>STEM|POS:ADJ|LEM:r~aHoma`n|ROOT:rHm|MS|GEN</td>\n",
       "    </tr>\n",
       "  </tbody>\n",
       "</table>\n",
       "</div>"
      ],
      "text/plain": [
       "    LOCATION        FORM  TAG                                    FEATURES\n",
       "1  (1:1:1:2)        somi    N          STEM|POS:N|LEM:{som|ROOT:smw|M|GEN\n",
       "2  (1:1:2:1)     {ll~ahi   PN         STEM|POS:PN|LEM:{ll~ah|ROOT:Alh|GEN\n",
       "4  (1:1:3:2)  r~aHoma`ni  ADJ  STEM|POS:ADJ|LEM:r~aHoma`n|ROOT:rHm|MS|GEN"
      ]
     },
     "execution_count": 4,
     "metadata": {},
     "output_type": "execute_result"
    }
   ],
   "source": [
    "# Filter for entries with ROOT information\n",
    "print(\"🔍 Filtering entries with ROOT information...\")\n",
    "root_entries = qdforiginal[qdforiginal.FEATURES.str.contains('ROOT:', na=False)]\n",
    "print(f\"Found {len(root_entries)} entries with root information\")\n",
    "root_entries.head(3)\n"
   ]
  },
  {
   "cell_type": "code",
   "execution_count": 5,
   "metadata": {},
   "outputs": [
    {
     "name": "stdout",
     "output_type": "stream",
     "text": [
      "⚙️ Processing full dataset...\n",
      "✅ Processed dataset shape: (128219, 10)\n"
     ]
    }
   ],
   "source": [
    "# Apply extraction to full dataset\n",
    "print(\"⚙️ Processing full dataset...\")\n",
    "tmp1 = qdforiginal.LOCATION.str.extract(r'(?P<sura>\\d*):(?P<aya>\\d*):(?P<word>\\d*):(?P<w_seg>\\d*)')\n",
    "tmp2 = qdforiginal.FEATURES.str.extract(r'ROOT:(?P<Root>[^|]*)')\n",
    "tmp3 = qdforiginal.FEATURES.str.extract(r'LEM:(?P<Lemma>[^|]*)')\n",
    "df_qruan = pd.concat([tmp1, qdforiginal, tmp2, tmp3], axis=1)\n",
    "print(f\"✅ Processed dataset shape: {df_qruan.shape}\")\n"
   ]
  },
  {
   "cell_type": "code",
   "execution_count": 6,
   "metadata": {},
   "outputs": [
    {
     "name": "stdout",
     "output_type": "stream",
     "text": [
      "🧹 Cleaning extracted data...\n",
      "✅ Data cleaned\n"
     ]
    },
    {
     "data": {
      "text/html": [
       "<div>\n",
       "<style scoped>\n",
       "    .dataframe tbody tr th:only-of-type {\n",
       "        vertical-align: middle;\n",
       "    }\n",
       "\n",
       "    .dataframe tbody tr th {\n",
       "        vertical-align: top;\n",
       "    }\n",
       "\n",
       "    .dataframe thead th {\n",
       "        text-align: right;\n",
       "    }\n",
       "</style>\n",
       "<table border=\"1\" class=\"dataframe\">\n",
       "  <thead>\n",
       "    <tr style=\"text-align: right;\">\n",
       "      <th></th>\n",
       "      <th>sura</th>\n",
       "      <th>aya</th>\n",
       "      <th>word</th>\n",
       "      <th>w_seg</th>\n",
       "      <th>LOCATION</th>\n",
       "      <th>FORM</th>\n",
       "      <th>TAG</th>\n",
       "      <th>FEATURES</th>\n",
       "      <th>Root</th>\n",
       "      <th>Lemma</th>\n",
       "    </tr>\n",
       "  </thead>\n",
       "  <tbody>\n",
       "    <tr>\n",
       "      <th>45318</th>\n",
       "      <td>10</td>\n",
       "      <td>50</td>\n",
       "      <td>11</td>\n",
       "      <td>1</td>\n",
       "      <td>(10:50:11:1)</td>\n",
       "      <td>mino</td>\n",
       "      <td>P</td>\n",
       "      <td>STEM|POS:P|LEM:min</td>\n",
       "      <td>NaN</td>\n",
       "      <td>min</td>\n",
       "    </tr>\n",
       "    <tr>\n",
       "      <th>19686</th>\n",
       "      <td>4</td>\n",
       "      <td>98</td>\n",
       "      <td>5</td>\n",
       "      <td>1</td>\n",
       "      <td>(4:98:5:1)</td>\n",
       "      <td>wa</td>\n",
       "      <td>CONJ</td>\n",
       "      <td>PREFIX|w:CONJ+</td>\n",
       "      <td>NaN</td>\n",
       "      <td>NaN</td>\n",
       "    </tr>\n",
       "    <tr>\n",
       "      <th>57797</th>\n",
       "      <td>16</td>\n",
       "      <td>46</td>\n",
       "      <td>1</td>\n",
       "      <td>1</td>\n",
       "      <td>(16:46:1:1)</td>\n",
       "      <td>&gt;awo</td>\n",
       "      <td>CONJ</td>\n",
       "      <td>STEM|POS:CONJ|LEM:&gt;aw</td>\n",
       "      <td>NaN</td>\n",
       "      <td>&gt;aw</td>\n",
       "    </tr>\n",
       "    <tr>\n",
       "      <th>72205</th>\n",
       "      <td>22</td>\n",
       "      <td>53</td>\n",
       "      <td>10</td>\n",
       "      <td>1</td>\n",
       "      <td>(22:53:10:1)</td>\n",
       "      <td>wa</td>\n",
       "      <td>CONJ</td>\n",
       "      <td>PREFIX|w:CONJ+</td>\n",
       "      <td>NaN</td>\n",
       "      <td>NaN</td>\n",
       "    </tr>\n",
       "    <tr>\n",
       "      <th>8696</th>\n",
       "      <td>2</td>\n",
       "      <td>253</td>\n",
       "      <td>52</td>\n",
       "      <td>1</td>\n",
       "      <td>(2:253:52:1)</td>\n",
       "      <td>yuriydu</td>\n",
       "      <td>V</td>\n",
       "      <td>STEM|POS:V|IMPF|(IV)|LEM:&gt;araAda|ROOT:rwd|3MS</td>\n",
       "      <td>rwd</td>\n",
       "      <td>&gt;araAda</td>\n",
       "    </tr>\n",
       "  </tbody>\n",
       "</table>\n",
       "</div>"
      ],
      "text/plain": [
       "      sura  aya word w_seg      LOCATION     FORM   TAG  \\\n",
       "45318   10   50   11     1  (10:50:11:1)     mino     P   \n",
       "19686    4   98    5     1    (4:98:5:1)       wa  CONJ   \n",
       "57797   16   46    1     1   (16:46:1:1)     >awo  CONJ   \n",
       "72205   22   53   10     1  (22:53:10:1)       wa  CONJ   \n",
       "8696     2  253   52     1  (2:253:52:1)  yuriydu     V   \n",
       "\n",
       "                                            FEATURES Root    Lemma  \n",
       "45318                             STEM|POS:P|LEM:min  NaN      min  \n",
       "19686                                 PREFIX|w:CONJ+  NaN      NaN  \n",
       "57797                          STEM|POS:CONJ|LEM:>aw  NaN      >aw  \n",
       "72205                                 PREFIX|w:CONJ+  NaN      NaN  \n",
       "8696   STEM|POS:V|IMPF|(IV)|LEM:>araAda|ROOT:rwd|3MS  rwd  >araAda  "
      ]
     },
     "execution_count": 6,
     "metadata": {},
     "output_type": "execute_result"
    }
   ],
   "source": [
    "# Clean extracted data (remove extra spaces)\n",
    "print(\"🧹 Cleaning extracted data...\")\n",
    "df_qruan['Root'] = df_qruan['Root'].str.strip()\n",
    "df_qruan['Lemma'] = df_qruan['Lemma'].str.strip()\n",
    "print(\"✅ Data cleaned\")\n",
    "df_qruan.sample(5)\n"
   ]
  },
  {
   "cell_type": "raw",
   "metadata": {
    "vscode": {
     "languageId": "raw"
    }
   },
   "source": [
    "## Load Meccan/Medinan Classification\n"
   ]
  },
  {
   "cell_type": "code",
   "execution_count": 7,
   "metadata": {},
   "outputs": [
    {
     "name": "stdout",
     "output_type": "stream",
     "text": [
      "📖 Loading sura classification data...\n",
      "✅ Loaded classification for 114 suras\n"
     ]
    },
    {
     "data": {
      "text/html": [
       "<div>\n",
       "<style scoped>\n",
       "    .dataframe tbody tr th:only-of-type {\n",
       "        vertical-align: middle;\n",
       "    }\n",
       "\n",
       "    .dataframe tbody tr th {\n",
       "        vertical-align: top;\n",
       "    }\n",
       "\n",
       "    .dataframe thead th {\n",
       "        text-align: right;\n",
       "    }\n",
       "</style>\n",
       "<table border=\"1\" class=\"dataframe\">\n",
       "  <thead>\n",
       "    <tr style=\"text-align: right;\">\n",
       "      <th></th>\n",
       "      <th>No.</th>\n",
       "      <th>Name Arabic</th>\n",
       "      <th>Name</th>\n",
       "      <th>English Meaning</th>\n",
       "      <th>No of verses</th>\n",
       "      <th>Place</th>\n",
       "      <th>Chronology</th>\n",
       "    </tr>\n",
       "  </thead>\n",
       "  <tbody>\n",
       "    <tr>\n",
       "      <th>0</th>\n",
       "      <td>1</td>\n",
       "      <td>الفاتحة</td>\n",
       "      <td>Al-Fatiha</td>\n",
       "      <td>The Opening</td>\n",
       "      <td>7</td>\n",
       "      <td>Meccan</td>\n",
       "      <td>5</td>\n",
       "    </tr>\n",
       "    <tr>\n",
       "      <th>1</th>\n",
       "      <td>2</td>\n",
       "      <td>البقرة</td>\n",
       "      <td>Al-Baqara</td>\n",
       "      <td>The Cow</td>\n",
       "      <td>286</td>\n",
       "      <td>Medinan</td>\n",
       "      <td>87</td>\n",
       "    </tr>\n",
       "    <tr>\n",
       "      <th>2</th>\n",
       "      <td>3</td>\n",
       "      <td>آل عمران</td>\n",
       "      <td>Al Imran</td>\n",
       "      <td>The House of Joachim</td>\n",
       "      <td>200</td>\n",
       "      <td>Medinan</td>\n",
       "      <td>89</td>\n",
       "    </tr>\n",
       "    <tr>\n",
       "      <th>3</th>\n",
       "      <td>4</td>\n",
       "      <td>النساء</td>\n",
       "      <td>An-Nisa'</td>\n",
       "      <td>Women</td>\n",
       "      <td>176</td>\n",
       "      <td>Medinan</td>\n",
       "      <td>92</td>\n",
       "    </tr>\n",
       "    <tr>\n",
       "      <th>4</th>\n",
       "      <td>5</td>\n",
       "      <td>المائدة</td>\n",
       "      <td>Al-Ma'ida</td>\n",
       "      <td>The Table Spread</td>\n",
       "      <td>120</td>\n",
       "      <td>Medinan</td>\n",
       "      <td>112</td>\n",
       "    </tr>\n",
       "  </tbody>\n",
       "</table>\n",
       "</div>"
      ],
      "text/plain": [
       "   No. Name Arabic       Name       English Meaning  No of verses    Place  \\\n",
       "0    1     الفاتحة  Al-Fatiha           The Opening             7   Meccan   \n",
       "1    2      البقرة  Al-Baqara               The Cow           286  Medinan   \n",
       "2    3    آل عمران   Al Imran  The House of Joachim           200  Medinan   \n",
       "3    4      النساء   An-Nisa'                 Women           176  Medinan   \n",
       "4    5     المائدة  Al-Ma'ida      The Table Spread           120  Medinan   \n",
       "\n",
       "   Chronology  \n",
       "0           5  \n",
       "1          87  \n",
       "2          89  \n",
       "3          92  \n",
       "4         112  "
      ]
     },
     "execution_count": 7,
     "metadata": {},
     "output_type": "execute_result"
    }
   ],
   "source": [
    "# Load table of contents with Meccan/Medinan classification\n",
    "print(\"📖 Loading sura classification data...\")\n",
    "qtoc = pd.read_csv('toc.csv')\n",
    "print(f\"✅ Loaded classification for {len(qtoc)} suras\")\n",
    "qtoc.head()\n"
   ]
  },
  {
   "cell_type": "raw",
   "metadata": {
    "vscode": {
     "languageId": "raw"
    }
   },
   "source": [
    "## Merge Data with Classification\n"
   ]
  },
  {
   "cell_type": "code",
   "execution_count": 8,
   "metadata": {},
   "outputs": [
    {
     "name": "stdout",
     "output_type": "stream",
     "text": [
      "🔧 Converting sura column to integer...\n",
      "✅ Sura column type: int64\n",
      "TOC No. column type: int64\n"
     ]
    }
   ],
   "source": [
    "# Convert sura column to integer for proper merging\n",
    "print(\"🔧 Converting sura column to integer...\")\n",
    "df_qruan['sura'] = df_qruan['sura'].astype(int)\n",
    "print(f\"✅ Sura column type: {df_qruan['sura'].dtype}\")\n",
    "print(f\"TOC No. column type: {qtoc['No.'].dtype}\")\n"
   ]
  },
  {
   "cell_type": "code",
   "execution_count": 9,
   "metadata": {},
   "outputs": [
    {
     "name": "stdout",
     "output_type": "stream",
     "text": [
      "🔗 Merging data with Meccan/Medinan classification...\n",
      "✅ Merged dataset shape: (128219, 12)\n",
      "<class 'pandas.core.frame.DataFrame'>\n",
      "RangeIndex: 128219 entries, 0 to 128218\n",
      "Data columns (total 12 columns):\n",
      " #   Column    Non-Null Count   Dtype \n",
      "---  ------    --------------   ----- \n",
      " 0   sura      128219 non-null  int64 \n",
      " 1   aya       128219 non-null  object\n",
      " 2   word      128219 non-null  object\n",
      " 3   w_seg     128219 non-null  object\n",
      " 4   LOCATION  128219 non-null  object\n",
      " 5   FORM      128011 non-null  object\n",
      " 6   TAG       128219 non-null  object\n",
      " 7   FEATURES  128219 non-null  object\n",
      " 8   Root      49968 non-null   object\n",
      " 9   Lemma     74608 non-null   object\n",
      " 10  No.       128219 non-null  int64 \n",
      " 11  Place     128219 non-null  object\n",
      "dtypes: int64(2), object(10)\n",
      "memory usage: 11.7+ MB\n"
     ]
    }
   ],
   "source": [
    "# Merge morphological data with classification\n",
    "print(\"🔗 Merging data with Meccan/Medinan classification...\")\n",
    "quran = df_qruan.merge(qtoc.loc[:, ['No.', 'Place']], how='left', left_on='sura', right_on='No.')\n",
    "print(f\"✅ Merged dataset shape: {quran.shape}\")\n",
    "quran.info()\n"
   ]
  },
  {
   "cell_type": "code",
   "execution_count": 10,
   "metadata": {},
   "outputs": [
    {
     "name": "stdout",
     "output_type": "stream",
     "text": [
      "💾 Final data saved as quran-morphology-final.csv\n"
     ]
    }
   ],
   "source": [
    "# Save final processed data\n",
    "quran.to_csv('quran-morphology-final.csv', index=False)\n",
    "print(\"💾 Final data saved as quran-morphology-final.csv\")\n"
   ]
  },
  {
   "cell_type": "raw",
   "metadata": {
    "vscode": {
     "languageId": "raw"
    }
   },
   "source": [
    "## Buckwalter to Arabic Conversion\n"
   ]
  },
  {
   "cell_type": "code",
   "execution_count": 11,
   "metadata": {},
   "outputs": [
    {
     "name": "stdout",
     "output_type": "stream",
     "text": [
      "🔤 Setting up Buckwalter to Arabic conversion...\n",
      "✅ Mappings created with 47 characters\n"
     ]
    }
   ],
   "source": [
    "# Create Buckwalter to Arabic mapping\n",
    "print(\"🔤 Setting up Buckwalter to Arabic conversion...\")\n",
    "\n",
    "# Arabic to Buckwalter mapping\n",
    "abjad = {\n",
    "    \"\\u0627\": 'A',\n",
    "    \"\\u0628\": 'b', \"\\u062A\": 't', \"\\u062B\": 'v', \"\\u062C\": 'j',\n",
    "    \"\\u062D\": 'H', \"\\u062E\": 'x', \"\\u062F\": 'd', \"\\u0630\": '*', \"\\u0631\": 'r',\n",
    "    \"\\u0632\": 'z', \"\\u0633\": 's', \"\\u0634\": '$', \"\\u0635\": 'S', \"\\u0636\": 'D',\n",
    "    \"\\u0637\": 'T', \"\\u0638\": 'Z', \"\\u0639\": 'E', \"\\u063A\": 'g', \"\\u0641\": 'f',\n",
    "    \"\\u0642\": 'q', \"\\u0643\": 'k', \"\\u0644\": 'l', \"\\u0645\": 'm', \"\\u0646\": 'n',\n",
    "    \"\\u0647\": 'h', \"\\u0648\": 'w', \"\\u0649\": 'Y', \"\\u064A\": 'y'\n",
    "}\n",
    "\n",
    "# Additional characters\n",
    "abjad[' '] = ' '\n",
    "abjad[\"\\u0621\"] = \"'\"\n",
    "abjad[\"\\u0623\"] = '>'\n",
    "abjad[\"\\u0625\"] = '<'\n",
    "abjad[\"\\u0624\"] = '&'\n",
    "abjad[\"\\u0626\"] = '}'\n",
    "abjad[\"\\u0622\"] = '|'\n",
    "abjad[\"\\u064E\"] = 'a'\n",
    "abjad[\"\\u064F\"] = 'u'\n",
    "abjad[\"\\u0650\"] = 'i'\n",
    "abjad[\"\\u0651\"] = '~'\n",
    "abjad[\"\\u0652\"] = 'o'\n",
    "abjad[\"\\u064B\"] = 'F'\n",
    "abjad[\"\\u064C\"] = 'N'\n",
    "abjad[\"\\u064D\"] = 'K'\n",
    "abjad[\"\\u0640\"] = '_'\n",
    "abjad[\"\\u0670\"] = '`'\n",
    "abjad[\"\\u0629\"] = 'p'\n",
    "\n",
    "# Create reverse mapping (Buckwalter to Arabic)\n",
    "alphabet = {}\n",
    "for key in abjad:\n",
    "    alphabet[abjad[key]] = key\n",
    "\n",
    "print(f\"✅ Mappings created with {len(alphabet)} characters\")\n"
   ]
  },
  {
   "cell_type": "code",
   "execution_count": 12,
   "metadata": {},
   "outputs": [
    {
     "name": "stdout",
     "output_type": "stream",
     "text": [
      "✅ Conversion functions defined\n"
     ]
    }
   ],
   "source": [
    "# Define conversion functions\n",
    "def arabic_to_buc(ara):\n",
    "    \"\"\"Convert Arabic text to Buckwalter transliteration\"\"\"\n",
    "    try:\n",
    "        return ''.join(map(lambda x: abjad.get(x, x), list(ara)))\n",
    "    except:\n",
    "        return ara\n",
    "\n",
    "def buck_to_arabic(buc):\n",
    "    \"\"\"Convert Buckwalter transliteration to Arabic text\"\"\"\n",
    "    try:\n",
    "        return ''.join(map(lambda x: alphabet.get(x, x), list(buc)))\n",
    "    except:\n",
    "        return buc\n",
    "\n",
    "print(\"✅ Conversion functions defined\")\n"
   ]
  },
  {
   "cell_type": "raw",
   "metadata": {
    "vscode": {
     "languageId": "raw"
    }
   },
   "source": [
    "## Utility Functions\n"
   ]
  },
  {
   "cell_type": "code",
   "execution_count": 13,
   "metadata": {},
   "outputs": [
    {
     "name": "stdout",
     "output_type": "stream",
     "text": [
      "✅ sura_words function defined\n"
     ]
    }
   ],
   "source": [
    "# Function to get words for specific suras\n",
    "def sura_words(s_list, kind='W'):\n",
    "    \"\"\"\n",
    "    Get unique words from specified suras\n",
    "    \n",
    "    Parameters:\n",
    "    s_list: list of sura numbers\n",
    "    kind: 'W' for words, 'R' for roots, 'L' for lemmas\n",
    "    \n",
    "    Returns: list of words in Arabic script\n",
    "    \"\"\"\n",
    "    if kind == 'R':\n",
    "        result = quran[quran.sura.isin(s_list)].Root.dropna().unique().tolist()\n",
    "    elif kind == 'L':\n",
    "        result = quran[quran.sura.isin(s_list)].Lemma.dropna().unique().tolist()\n",
    "    else:\n",
    "        result = quran[quran.sura.isin(s_list)].FORM.dropna().unique().tolist()\n",
    "    \n",
    "    return [buck_to_arabic(x) for x in result if x]\n",
    "\n",
    "print(\"✅ sura_words function defined\")\n"
   ]
  },
  {
   "cell_type": "code",
   "execution_count": 14,
   "metadata": {},
   "outputs": [
    {
     "name": "stdout",
     "output_type": "stream",
     "text": [
      "✅ unique_sura_words function defined\n"
     ]
    }
   ],
   "source": [
    "# Function to get unique words (appearing only in specified suras)\n",
    "def unique_sura_words(s_list, kind='W'):\n",
    "    \"\"\"\n",
    "    Get words that appear ONLY in specified suras\n",
    "    \n",
    "    Parameters:\n",
    "    s_list: list of sura numbers\n",
    "    kind: 'W' for words, 'R' for roots, 'L' for lemmas\n",
    "    \n",
    "    Returns: list of unique words in Arabic script\n",
    "    \"\"\"\n",
    "    if kind == 'R':\n",
    "        first = quran[quran.sura.isin(s_list)].Root.dropna().unique().tolist()\n",
    "        second = quran[~quran.sura.isin(s_list)].Root.dropna().unique().tolist()\n",
    "        result = list(set(first) - set(second))\n",
    "    elif kind == 'L':\n",
    "        first = quran[quran.sura.isin(s_list)].Lemma.dropna().unique().tolist()\n",
    "        second = quran[~quran.sura.isin(s_list)].Lemma.dropna().unique().tolist()\n",
    "        result = list(set(first) - set(second))\n",
    "    else:\n",
    "        first = quran[quran.sura.isin(s_list)].FORM.dropna().unique().tolist()\n",
    "        second = quran[~quran.sura.isin(s_list)].FORM.dropna().unique().tolist()\n",
    "        result = list(set(first) - set(second))\n",
    "    \n",
    "    return [buck_to_arabic(x) for x in result if x]\n",
    "\n",
    "print(\"✅ unique_sura_words function defined\")\n"
   ]
  },
  {
   "cell_type": "raw",
   "metadata": {
    "vscode": {
     "languageId": "raw"
    }
   },
   "source": [
    "## Root Words Analysis\n"
   ]
  },
  {
   "cell_type": "code",
   "execution_count": 15,
   "metadata": {},
   "outputs": [
    {
     "name": "stdout",
     "output_type": "stream",
     "text": [
      "🌿 Analyzing unique root words...\n",
      "Meccan unique roots: 1444\n",
      "Medinan unique roots: 1095\n"
     ]
    }
   ],
   "source": [
    "# Get unique root words by revelation type\n",
    "print(\"🌿 Analyzing unique root words...\")\n",
    "\n",
    "# Meccan roots\n",
    "meccan_roots = set(quran[quran.Place == 'Meccan'].Root.dropna().unique())\n",
    "print(f\"Meccan unique roots: {len(meccan_roots)}\")\n",
    "\n",
    "# Medinan roots\n",
    "medinan_roots = set(quran[quran.Place == 'Medinan'].Root.dropna().unique())\n",
    "print(f\"Medinan unique roots: {len(medinan_roots)}\")\n"
   ]
  },
  {
   "cell_type": "code",
   "execution_count": 16,
   "metadata": {},
   "outputs": [
    {
     "name": "stdout",
     "output_type": "stream",
     "text": [
      "📊 Calculating root word statistics...\n",
      "Meccan-only roots: 547\n",
      "Medinan-only roots: 198\n",
      "Shared roots: 897\n",
      "\n",
      "📈 Summary:\n",
      "Total unique roots: 1642\n",
      "Meccan-only: 547 (33.3%)\n",
      "Medinan-only: 198 (12.1%)\n",
      "Shared: 897 (54.6%)\n"
     ]
    }
   ],
   "source": [
    "# Calculate exclusive and shared roots\n",
    "print(\"📊 Calculating root word statistics...\")\n",
    "\n",
    "# Meccan-only roots\n",
    "meccan_only = meccan_roots - medinan_roots\n",
    "print(f\"Meccan-only roots: {len(meccan_only)}\")\n",
    "\n",
    "# Medinan-only roots\n",
    "medinan_only = medinan_roots - meccan_roots\n",
    "print(f\"Medinan-only roots: {len(medinan_only)}\")\n",
    "\n",
    "# Shared roots\n",
    "shared_roots = meccan_roots & medinan_roots\n",
    "print(f\"Shared roots: {len(shared_roots)}\")\n",
    "\n",
    "# Summary\n",
    "print(\"\\n📈 Summary:\")\n",
    "print(f\"Total unique roots: {len(meccan_roots | medinan_roots)}\")\n",
    "print(f\"Meccan-only: {len(meccan_only)} ({len(meccan_only)/(len(meccan_roots | medinan_roots))*100:.1f}%)\")\n",
    "print(f\"Medinan-only: {len(medinan_only)} ({len(medinan_only)/(len(meccan_roots | medinan_roots))*100:.1f}%)\")\n",
    "print(f\"Shared: {len(shared_roots)} ({len(shared_roots)/(len(meccan_roots | medinan_roots))*100:.1f}%)\")\n"
   ]
  },
  {
   "cell_type": "raw",
   "metadata": {
    "vscode": {
     "languageId": "raw"
    }
   },
   "source": [
    "## Example Usage and Testing\n"
   ]
  },
  {
   "cell_type": "code",
   "execution_count": 17,
   "metadata": {},
   "outputs": [
    {
     "name": "stdout",
     "output_type": "stream",
     "text": [
      "🧪 Testing with Al-Fatiha (Sura 1):\n",
      "Roots in Al-Fatiha: 18\n",
      "First 10 roots: ['سمو', 'اله', 'رحم', 'حمد', 'ربب', 'علم', 'ملك', 'يوم', 'دين', 'عبد']\n"
     ]
    }
   ],
   "source": [
    "# Test with Al-Fatiha (Sura 1)\n",
    "print(\"🧪 Testing with Al-Fatiha (Sura 1):\")\n",
    "fatiha_roots = sura_words([1], 'R')\n",
    "print(f\"Roots in Al-Fatiha: {len(fatiha_roots)}\")\n",
    "print(\"First 10 roots:\", fatiha_roots[:10])\n"
   ]
  },
  {
   "cell_type": "code",
   "execution_count": 18,
   "metadata": {},
   "outputs": [
    {
     "name": "stdout",
     "output_type": "stream",
     "text": [
      "📊 FINAL ANALYSIS SUMMARY\n",
      "==================================================\n",
      "📖 Total Quranic entries analyzed: 128,219\n",
      "🌿 Total entries with root information: 49,968\n",
      "📝 Total entries with lemma information: 74,608\n",
      "📚 Total suras covered: 114\n",
      "\n",
      "🏛️ REVELATION ANALYSIS:\n",
      "🕌 Meccan-only root words: 547\n",
      "🏛️ Medinan-only root words: 198\n",
      "🤝 Shared root words: 897\n",
      "🌟 Total unique root words: 1642\n",
      "\n",
      "✅ Analysis complete! All functions ready for use.\n"
     ]
    }
   ],
   "source": [
    "# Generate final summary report\n",
    "print(\"📊 FINAL ANALYSIS SUMMARY\")\n",
    "print(\"=\" * 50)\n",
    "print(f\"📖 Total Quranic entries analyzed: {len(quran):,}\")\n",
    "print(f\"🌿 Total entries with root information: {quran.Root.notna().sum():,}\")\n",
    "print(f\"📝 Total entries with lemma information: {quran.Lemma.notna().sum():,}\")\n",
    "print(f\"📚 Total suras covered: {quran.sura.nunique()}\")\n",
    "print(\"\\n🏛️ REVELATION ANALYSIS:\")\n",
    "print(f\"🕌 Meccan-only root words: {len(meccan_only)}\")\n",
    "print(f\"🏛️ Medinan-only root words: {len(medinan_only)}\")\n",
    "print(f\"🤝 Shared root words: {len(shared_roots)}\")\n",
    "print(f\"🌟 Total unique root words: {len(meccan_roots | medinan_roots)}\")\n",
    "print(\"\\n✅ Analysis complete! All functions ready for use.\")\n"
   ]
  },
  {
   "cell_type": "code",
   "execution_count": null,
   "metadata": {},
   "outputs": [],
   "source": []
  },
  {
   "cell_type": "code",
   "execution_count": null,
   "metadata": {},
   "outputs": [],
   "source": []
  }
 ],
 "metadata": {
  "kernelspec": {
   "display_name": "Python 3 (ipykernel)",
   "language": "python",
   "name": "python3"
  },
  "language_info": {
   "codemirror_mode": {
    "name": "ipython",
    "version": 3
   },
   "file_extension": ".py",
   "mimetype": "text/x-python",
   "name": "python",
   "nbconvert_exporter": "python",
   "pygments_lexer": "ipython3",
   "version": "3.12.9"
  }
 },
 "nbformat": 4,
 "nbformat_minor": 4
}
