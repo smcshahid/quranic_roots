{
  "cells": [
    {
      "cell_type": "raw",
      "metadata": {
        "vscode": {
          "languageId": "raw"
        }
      },
      "source": [
        "# Quranic Root Words Analysis\n",
        "\n",
        "This notebook analyzes unique root words in the Holy Quran, comparing vocabulary between Meccan and Medinan revelations.\n"
      ]
    },
    {
      "cell_type": "raw",
      "metadata": {
        "vscode": {
          "languageId": "raw"
        }
      },
      "source": [
        "## Setup and Data Loading\n"
      ]
    },
    {
      "cell_type": "code",
      "execution_count": null,
      "metadata": {},
      "outputs": [],
      "source": [
        "# Import required libraries\n",
        "import pandas as pd\n",
        "import numpy as np\n",
        "print(\"✅ Libraries imported successfully!\")\n"
      ]
    },
    {
      "cell_type": "code",
      "execution_count": null,
      "metadata": {},
      "outputs": [],
      "source": [
        "# Load morphological data from URL\n",
        "url = 'http://textminingthequran.com/data/quranic-corpus-morphology-0.4.txt'\n",
        "print(\"📥 Downloading morphological data...\")\n",
        "qdforiginal = pd.read_csv(url, sep='\\t', skiprows=56)\n",
        "print(f\"✅ Loaded {len(qdforiginal)} entries\")\n",
        "qdforiginal.head()\n"
      ]
    },
    {
      "cell_type": "code",
      "execution_count": null,
      "metadata": {},
      "outputs": [],
      "source": [
        "# Save original data locally\n",
        "qdforiginal.to_csv('quran-morphology-v1.csv')\n",
        "print(\"💾 Original data saved as quran-morphology-v1.csv\")\n"
      ]
    },
    {
      "cell_type": "raw",
      "metadata": {
        "vscode": {
          "languageId": "raw"
        }
      },
      "source": [
        "## Data Processing and Column Extraction\n"
      ]
    },
    {
      "cell_type": "code",
      "execution_count": null,
      "metadata": {},
      "outputs": [],
      "source": [
        "# Filter for entries with ROOT information\n",
        "print(\"🔍 Filtering entries with ROOT information...\")\n",
        "root_entries = qdforiginal[qdforiginal.FEATURES.str.contains('ROOT:', na=False)]\n",
        "print(f\"Found {len(root_entries)} entries with root information\")\n",
        "root_entries.head(3)\n"
      ]
    },
    {
      "cell_type": "code",
      "execution_count": null,
      "metadata": {},
      "outputs": [],
      "source": [
        "# Apply extraction to full dataset\n",
        "print(\"⚙️ Processing full dataset...\")\n",
        "tmp1 = qdforiginal.LOCATION.str.extract(r'(?P<sura>\\d*):(?P<aya>\\d*):(?P<word>\\d*):(?P<w_seg>\\d*)')\n",
        "tmp2 = qdforiginal.FEATURES.str.extract(r'ROOT:(?P<Root>[^|]*)')\n",
        "tmp3 = qdforiginal.FEATURES.str.extract(r'LEM:(?P<Lemma>[^|]*)')\n",
        "df_qruan = pd.concat([tmp1, qdforiginal, tmp2, tmp3], axis=1)\n",
        "print(f\"✅ Processed dataset shape: {df_qruan.shape}\")\n"
      ]
    },
    {
      "cell_type": "code",
      "execution_count": null,
      "metadata": {},
      "outputs": [],
      "source": [
        "# Clean extracted data (remove extra spaces)\n",
        "print(\"🧹 Cleaning extracted data...\")\n",
        "df_qruan['Root'] = df_qruan['Root'].str.strip()\n",
        "df_qruan['Lemma'] = df_qruan['Lemma'].str.strip()\n",
        "print(\"✅ Data cleaned\")\n",
        "df_qruan.sample(5)\n"
      ]
    },
    {
      "cell_type": "raw",
      "metadata": {
        "vscode": {
          "languageId": "raw"
        }
      },
      "source": [
        "## Load Meccan/Medinan Classification\n"
      ]
    },
    {
      "cell_type": "code",
      "execution_count": null,
      "metadata": {},
      "outputs": [],
      "source": [
        "# Load table of contents with Meccan/Medinan classification\n",
        "print(\"📖 Loading sura classification data...\")\n",
        "qtoc = pd.read_csv('toc.csv')\n",
        "print(f\"✅ Loaded classification for {len(qtoc)} suras\")\n",
        "qtoc.head()\n"
      ]
    },
    {
      "cell_type": "raw",
      "metadata": {
        "vscode": {
          "languageId": "raw"
        }
      },
      "source": [
        "## Merge Data with Classification\n"
      ]
    },
    {
      "cell_type": "code",
      "execution_count": null,
      "metadata": {},
      "outputs": [],
      "source": [
        "# Convert sura column to integer for proper merging\n",
        "print(\"🔧 Converting sura column to integer...\")\n",
        "df_qruan['sura'] = df_qruan['sura'].astype(int)\n",
        "print(f\"✅ Sura column type: {df_qruan['sura'].dtype}\")\n",
        "print(f\"TOC No. column type: {qtoc['No.'].dtype}\")\n"
      ]
    },
    {
      "cell_type": "code",
      "execution_count": null,
      "metadata": {},
      "outputs": [],
      "source": [
        "# Merge morphological data with classification\n",
        "print(\"🔗 Merging data with Meccan/Medinan classification...\")\n",
        "quran = df_qruan.merge(qtoc.loc[:, ['No.', 'Place']], how='left', left_on='sura', right_on='No.')\n",
        "print(f\"✅ Merged dataset shape: {quran.shape}\")\n",
        "quran.info()\n"
      ]
    },
    {
      "cell_type": "code",
      "execution_count": null,
      "metadata": {},
      "outputs": [],
      "source": [
        "# Save final processed data\n",
        "quran.to_csv('quran-morphology-final.csv', index=False)\n",
        "print(\"💾 Final data saved as quran-morphology-final.csv\")\n"
      ]
    },
    {
      "cell_type": "raw",
      "metadata": {
        "vscode": {
          "languageId": "raw"
        }
      },
      "source": [
        "## Buckwalter to Arabic Conversion\n"
      ]
    },
    {
      "cell_type": "code",
      "execution_count": null,
      "metadata": {},
      "outputs": [],
      "source": [
        "# Create Buckwalter to Arabic mapping\n",
        "print(\"🔤 Setting up Buckwalter to Arabic conversion...\")\n",
        "\n",
        "# Arabic to Buckwalter mapping\n",
        "abjad = {\n",
        "    \"\\u0627\": 'A',\n",
        "    \"\\u0628\": 'b', \"\\u062A\": 't', \"\\u062B\": 'v', \"\\u062C\": 'j',\n",
        "    \"\\u062D\": 'H', \"\\u062E\": 'x', \"\\u062F\": 'd', \"\\u0630\": '*', \"\\u0631\": 'r',\n",
        "    \"\\u0632\": 'z', \"\\u0633\": 's', \"\\u0634\": '$', \"\\u0635\": 'S', \"\\u0636\": 'D',\n",
        "    \"\\u0637\": 'T', \"\\u0638\": 'Z', \"\\u0639\": 'E', \"\\u063A\": 'g', \"\\u0641\": 'f',\n",
        "    \"\\u0642\": 'q', \"\\u0643\": 'k', \"\\u0644\": 'l', \"\\u0645\": 'm', \"\\u0646\": 'n',\n",
        "    \"\\u0647\": 'h', \"\\u0648\": 'w', \"\\u0649\": 'Y', \"\\u064A\": 'y'\n",
        "}\n",
        "\n",
        "# Additional characters\n",
        "abjad[' '] = ' '\n",
        "abjad[\"\\u0621\"] = \"'\"\n",
        "abjad[\"\\u0623\"] = '>'\n",
        "abjad[\"\\u0625\"] = '<'\n",
        "abjad[\"\\u0624\"] = '&'\n",
        "abjad[\"\\u0626\"] = '}'\n",
        "abjad[\"\\u0622\"] = '|'\n",
        "abjad[\"\\u064E\"] = 'a'\n",
        "abjad[\"\\u064F\"] = 'u'\n",
        "abjad[\"\\u0650\"] = 'i'\n",
        "abjad[\"\\u0651\"] = '~'\n",
        "abjad[\"\\u0652\"] = 'o'\n",
        "abjad[\"\\u064B\"] = 'F'\n",
        "abjad[\"\\u064C\"] = 'N'\n",
        "abjad[\"\\u064D\"] = 'K'\n",
        "abjad[\"\\u0640\"] = '_'\n",
        "abjad[\"\\u0670\"] = '`'\n",
        "abjad[\"\\u0629\"] = 'p'\n",
        "\n",
        "# Create reverse mapping (Buckwalter to Arabic)\n",
        "alphabet = {}\n",
        "for key in abjad:\n",
        "    alphabet[abjad[key]] = key\n",
        "\n",
        "print(f\"✅ Mappings created with {len(alphabet)} characters\")\n"
      ]
    },
    {
      "cell_type": "code",
      "execution_count": null,
      "metadata": {},
      "outputs": [],
      "source": [
        "# Define conversion functions\n",
        "def arabic_to_buc(ara):\n",
        "    \"\"\"Convert Arabic text to Buckwalter transliteration\"\"\"\n",
        "    try:\n",
        "        return ''.join(map(lambda x: abjad.get(x, x), list(ara)))\n",
        "    except:\n",
        "        return ara\n",
        "\n",
        "def buck_to_arabic(buc):\n",
        "    \"\"\"Convert Buckwalter transliteration to Arabic text\"\"\"\n",
        "    try:\n",
        "        return ''.join(map(lambda x: alphabet.get(x, x), list(buc)))\n",
        "    except:\n",
        "        return buc\n",
        "\n",
        "print(\"✅ Conversion functions defined\")\n"
      ]
    },
    {
      "cell_type": "raw",
      "metadata": {
        "vscode": {
          "languageId": "raw"
        }
      },
      "source": [
        "## Utility Functions\n"
      ]
    },
    {
      "cell_type": "code",
      "execution_count": null,
      "metadata": {},
      "outputs": [],
      "source": [
        "# Function to get words for specific suras\n",
        "def sura_words(s_list, kind='W'):\n",
        "    \"\"\"\n",
        "    Get unique words from specified suras\n",
        "    \n",
        "    Parameters:\n",
        "    s_list: list of sura numbers\n",
        "    kind: 'W' for words, 'R' for roots, 'L' for lemmas\n",
        "    \n",
        "    Returns: list of words in Arabic script\n",
        "    \"\"\"\n",
        "    if kind == 'R':\n",
        "        result = quran[quran.sura.isin(s_list)].Root.dropna().unique().tolist()\n",
        "    elif kind == 'L':\n",
        "        result = quran[quran.sura.isin(s_list)].Lemma.dropna().unique().tolist()\n",
        "    else:\n",
        "        result = quran[quran.sura.isin(s_list)].FORM.dropna().unique().tolist()\n",
        "    \n",
        "    return [buck_to_arabic(x) for x in result if x]\n",
        "\n",
        "print(\"✅ sura_words function defined\")\n"
      ]
    },
    {
      "cell_type": "code",
      "execution_count": null,
      "metadata": {},
      "outputs": [],
      "source": [
        "# Function to get unique words (appearing only in specified suras)\n",
        "def unique_sura_words(s_list, kind='W'):\n",
        "    \"\"\"\n",
        "    Get words that appear ONLY in specified suras\n",
        "    \n",
        "    Parameters:\n",
        "    s_list: list of sura numbers\n",
        "    kind: 'W' for words, 'R' for roots, 'L' for lemmas\n",
        "    \n",
        "    Returns: list of unique words in Arabic script\n",
        "    \"\"\"\n",
        "    if kind == 'R':\n",
        "        first = quran[quran.sura.isin(s_list)].Root.dropna().unique().tolist()\n",
        "        second = quran[~quran.sura.isin(s_list)].Root.dropna().unique().tolist()\n",
        "        result = list(set(first) - set(second))\n",
        "    elif kind == 'L':\n",
        "        first = quran[quran.sura.isin(s_list)].Lemma.dropna().unique().tolist()\n",
        "        second = quran[~quran.sura.isin(s_list)].Lemma.dropna().unique().tolist()\n",
        "        result = list(set(first) - set(second))\n",
        "    else:\n",
        "        first = quran[quran.sura.isin(s_list)].FORM.dropna().unique().tolist()\n",
        "        second = quran[~quran.sura.isin(s_list)].FORM.dropna().unique().tolist()\n",
        "        result = list(set(first) - set(second))\n",
        "    \n",
        "    return [buck_to_arabic(x) for x in result if x]\n",
        "\n",
        "print(\"✅ unique_sura_words function defined\")\n"
      ]
    },
    {
      "cell_type": "raw",
      "metadata": {
        "vscode": {
          "languageId": "raw"
        }
      },
      "source": [
        "## Root Words Analysis\n"
      ]
    },
    {
      "cell_type": "code",
      "execution_count": null,
      "metadata": {},
      "outputs": [],
      "source": [
        "# Get unique root words by revelation type\n",
        "print(\"🌿 Analyzing unique root words...\")\n",
        "\n",
        "# Meccan roots\n",
        "meccan_roots = set(quran[quran.Place == 'Meccan'].Root.dropna().unique())\n",
        "print(f\"Meccan unique roots: {len(meccan_roots)}\")\n",
        "\n",
        "# Medinan roots\n",
        "medinan_roots = set(quran[quran.Place == 'Medinan'].Root.dropna().unique())\n",
        "print(f\"Medinan unique roots: {len(medinan_roots)}\")\n"
      ]
    },
    {
      "cell_type": "code",
      "execution_count": null,
      "metadata": {},
      "outputs": [],
      "source": [
        "# Calculate exclusive and shared roots\n",
        "print(\"📊 Calculating root word statistics...\")\n",
        "\n",
        "# Meccan-only roots\n",
        "meccan_only = meccan_roots - medinan_roots\n",
        "print(f\"Meccan-only roots: {len(meccan_only)}\")\n",
        "\n",
        "# Medinan-only roots\n",
        "medinan_only = medinan_roots - meccan_roots\n",
        "print(f\"Medinan-only roots: {len(medinan_only)}\")\n",
        "\n",
        "# Shared roots\n",
        "shared_roots = meccan_roots & medinan_roots\n",
        "print(f\"Shared roots: {len(shared_roots)}\")\n",
        "\n",
        "# Summary\n",
        "print(\"\\n📈 Summary:\")\n",
        "print(f\"Total unique roots: {len(meccan_roots | medinan_roots)}\")\n",
        "print(f\"Meccan-only: {len(meccan_only)} ({len(meccan_only)/(len(meccan_roots | medinan_roots))*100:.1f}%)\")\n",
        "print(f\"Medinan-only: {len(medinan_only)} ({len(medinan_only)/(len(meccan_roots | medinan_roots))*100:.1f}%)\")\n",
        "print(f\"Shared: {len(shared_roots)} ({len(shared_roots)/(len(meccan_roots | medinan_roots))*100:.1f}%)\")\n"
      ]
    },
    {
      "cell_type": "raw",
      "metadata": {
        "vscode": {
          "languageId": "raw"
        }
      },
      "source": [
        "## Example Usage and Testing\n"
      ]
    },
    {
      "cell_type": "code",
      "execution_count": null,
      "metadata": {},
      "outputs": [],
      "source": [
        "# Test with Al-Fatiha (Sura 1)\n",
        "print(\"🧪 Testing with Al-Fatiha (Sura 1):\")\n",
        "fatiha_roots = sura_words([1], 'R')\n",
        "print(f\"Roots in Al-Fatiha: {len(fatiha_roots)}\")\n",
        "print(\"First 10 roots:\", fatiha_roots[:10])\n"
      ]
    },
    {
      "cell_type": "code",
      "execution_count": null,
      "metadata": {},
      "outputs": [],
      "source": [
        "# Generate final summary report\n",
        "print(\"📊 FINAL ANALYSIS SUMMARY\")\n",
        "print(\"=\" * 50)\n",
        "print(f\"📖 Total Quranic entries analyzed: {len(quran):,}\")\n",
        "print(f\"🌿 Total entries with root information: {quran.Root.notna().sum():,}\")\n",
        "print(f\"📝 Total entries with lemma information: {quran.Lemma.notna().sum():,}\")\n",
        "print(f\"📚 Total suras covered: {quran.sura.nunique()}\")\n",
        "print(\"\\n🏛️ REVELATION ANALYSIS:\")\n",
        "print(f\"🕌 Meccan-only root words: {len(meccan_only)}\")\n",
        "print(f\"🏛️ Medinan-only root words: {len(medinan_only)}\")\n",
        "print(f\"🤝 Shared root words: {len(shared_roots)}\")\n",
        "print(f\"🌟 Total unique root words: {len(meccan_roots | medinan_roots)}\")\n",
        "print(\"\\n✅ Analysis complete! All functions ready for use.\")\n"
      ]
    }
  ],
  "metadata": {
    "language_info": {
      "name": "python"
    }
  },
  "nbformat": 4,
  "nbformat_minor": 2
}
