{
 "cells": [
  {
   "cell_type": "markdown",
   "metadata": {},
   "source": [
    "## getting the file of quran segments"
   ]
  },
  {
   "cell_type": "markdown",
   "metadata": {},
   "source": [
    "In a [previous](http://abdulbaqi.io/2019/01/15/quranic_roots/) post I explored some of `Linux` commands to find root words in the entire Quran or in a particular sura of the Quran.\n",
    "\n",
    "While, `Linux` commands could be very productive at certain cases, they are not meant for data analysis. Hence, we need to resort to a proper data science programming language like R or Python. \n",
    "\n",
    "In this post, I will explore the power of `Python` to address a the same topc (i.e., root words in the Quran) but will extend the problem to much more interesting queries."
   ]
  },
  {
   "cell_type": "markdown",
   "metadata": {},
   "source": [
    "This post is not intended to be a beginner's tutorial to either `python` or `pandas` the special python package for data analysis that I will use here. I expect you to have some experience with both but more on python. I will assume you have less experince with `pandas` though. "
   ]
  },
  {
   "cell_type": "markdown",
   "metadata": {},
   "source": [
    "Without further ado, let us get started."
   ]
  },
  {
   "cell_type": "markdown",
   "metadata": {},
   "source": [
    "First, let us start with few setup steps, like loading the `pandas` package and rename it for ease of usage as `pd`."
   ]
  },
  {
   "cell_type": "code",
   "execution_count": 1,
   "metadata": {},
   "outputs": [],
   "source": [
    "import pandas as pd"
   ]
  },
  {
   "cell_type": "markdown",
   "metadata": {},
   "source": [
    "Next, read the file that contains the morphological information. Pandas has the `read_csv` function that can read directly from a URL. Note that the file contains some copyright information in the first 56 lines, and hence I am using `skiprows` option. Also, note that `read_csv` by defualt assumes the seperator to be a comman, if not -as is the case in this file- we need to explicitly specify the delimiter and hence the `sep='\\t'` option. Finally, we are displaying few lines from the top by the `head()` function."
   ]
  },
  {
   "cell_type": "code",
   "execution_count": 6,
   "metadata": {},
   "outputs": [
    {
     "data": {
      "text/html": [
       "<div>\n",
       "<style scoped>\n",
       "    .dataframe tbody tr th:only-of-type {\n",
       "        vertical-align: middle;\n",
       "    }\n",
       "\n",
       "    .dataframe tbody tr th {\n",
       "        vertical-align: top;\n",
       "    }\n",
       "\n",
       "    .dataframe thead th {\n",
       "        text-align: right;\n",
       "    }\n",
       "</style>\n",
       "<table border=\"1\" class=\"dataframe\">\n",
       "  <thead>\n",
       "    <tr style=\"text-align: right;\">\n",
       "      <th></th>\n",
       "      <th>LOCATION</th>\n",
       "      <th>FORM</th>\n",
       "      <th>TAG</th>\n",
       "      <th>FEATURES</th>\n",
       "    </tr>\n",
       "  </thead>\n",
       "  <tbody>\n",
       "    <tr>\n",
       "      <th>0</th>\n",
       "      <td>(1:1:1:1)</td>\n",
       "      <td>bi</td>\n",
       "      <td>P</td>\n",
       "      <td>PREFIX|bi+</td>\n",
       "    </tr>\n",
       "    <tr>\n",
       "      <th>1</th>\n",
       "      <td>(1:1:1:2)</td>\n",
       "      <td>somi</td>\n",
       "      <td>N</td>\n",
       "      <td>STEM|POS:N|LEM:{som|ROOT:smw|M|GEN</td>\n",
       "    </tr>\n",
       "    <tr>\n",
       "      <th>2</th>\n",
       "      <td>(1:1:2:1)</td>\n",
       "      <td>{ll~ahi</td>\n",
       "      <td>PN</td>\n",
       "      <td>STEM|POS:PN|LEM:{ll~ah|ROOT:Alh|GEN</td>\n",
       "    </tr>\n",
       "    <tr>\n",
       "      <th>3</th>\n",
       "      <td>(1:1:3:1)</td>\n",
       "      <td>{l</td>\n",
       "      <td>DET</td>\n",
       "      <td>PREFIX|Al+</td>\n",
       "    </tr>\n",
       "    <tr>\n",
       "      <th>4</th>\n",
       "      <td>(1:1:3:2)</td>\n",
       "      <td>r~aHoma`ni</td>\n",
       "      <td>ADJ</td>\n",
       "      <td>STEM|POS:ADJ|LEM:r~aHoma`n|ROOT:rHm|MS|GEN</td>\n",
       "    </tr>\n",
       "  </tbody>\n",
       "</table>\n",
       "</div>"
      ],
      "text/plain": [
       "    LOCATION        FORM  TAG                                    FEATURES\n",
       "0  (1:1:1:1)          bi    P                                  PREFIX|bi+\n",
       "1  (1:1:1:2)        somi    N          STEM|POS:N|LEM:{som|ROOT:smw|M|GEN\n",
       "2  (1:1:2:1)     {ll~ahi   PN         STEM|POS:PN|LEM:{ll~ah|ROOT:Alh|GEN\n",
       "3  (1:1:3:1)          {l  DET                                  PREFIX|Al+\n",
       "4  (1:1:3:2)  r~aHoma`ni  ADJ  STEM|POS:ADJ|LEM:r~aHoma`n|ROOT:rHm|MS|GEN"
      ]
     },
     "execution_count": 6,
     "metadata": {},
     "output_type": "execute_result"
    }
   ],
   "source": [
    "url = 'http://textminingthequran.com/data/quranic-corpus-morphology-0.4.txt'\n",
    "qdforiginal = pd.read_csv(url, sep='\\t',skiprows=56)\n",
    "qdforiginal.head()"
   ]
  },
  {
   "cell_type": "markdown",
   "metadata": {},
   "source": [
    "It is a good idea to save the first version locally by the `to_csv()` function. "
   ]
  },
  {
   "cell_type": "code",
   "execution_count": 35,
   "metadata": {},
   "outputs": [],
   "source": [
    "qdforiginal.to_csv('quran-morphology-v1.csv')"
   ]
  },
  {
   "cell_type": "markdown",
   "metadata": {},
   "source": [
    "Looking at the first few lines of the file above we see that the `LOCATION` and `FEATURES` columns need to be split further. "
   ]
  },
  {
   "cell_type": "markdown",
   "metadata": {},
   "source": [
    "Our file contains 128k lines (you can verify that by the command `qdforiginal.shape`). I prefer to take a small sample of this big file and run the experimentations of splitting. When successful, we can then run it on the entire file."
   ]
  },
  {
   "cell_type": "markdown",
   "metadata": {},
   "source": [
    "### Splitting columns"
   ]
  },
  {
   "cell_type": "markdown",
   "metadata": {},
   "source": [
    "Here is my strategy: since I am interested on root words, I want to select first all rows that contain the word `ROOT:` in the `FEATURES` column. This can be done by a command like the following:"
   ]
  },
  {
   "cell_type": "code",
   "execution_count": 220,
   "metadata": {},
   "outputs": [
    {
     "data": {
      "text/plain": [
       "0    False\n",
       "1     True\n",
       "2     True\n",
       "Name: FEATURES, dtype: bool"
      ]
     },
     "execution_count": 220,
     "metadata": {},
     "output_type": "execute_result"
    }
   ],
   "source": [
    "qdforiginal.FEATURES.str.contains('ROOT')[:3]"
   ]
  },
  {
   "cell_type": "markdown",
   "metadata": {},
   "source": [
    "I only took the first 3 lines of the entire 128k lines. It returns `boolean` values of `True` or `False`. So, we can pass this boolean result to filter the entire dataframe by:"
   ]
  },
  {
   "cell_type": "code",
   "execution_count": 221,
   "metadata": {},
   "outputs": [
    {
     "data": {
      "text/html": [
       "<div>\n",
       "<style scoped>\n",
       "    .dataframe tbody tr th:only-of-type {\n",
       "        vertical-align: middle;\n",
       "    }\n",
       "\n",
       "    .dataframe tbody tr th {\n",
       "        vertical-align: top;\n",
       "    }\n",
       "\n",
       "    .dataframe thead th {\n",
       "        text-align: right;\n",
       "    }\n",
       "</style>\n",
       "<table border=\"1\" class=\"dataframe\">\n",
       "  <thead>\n",
       "    <tr style=\"text-align: right;\">\n",
       "      <th></th>\n",
       "      <th>LOCATION</th>\n",
       "      <th>FORM</th>\n",
       "      <th>TAG</th>\n",
       "      <th>FEATURES</th>\n",
       "    </tr>\n",
       "  </thead>\n",
       "  <tbody>\n",
       "    <tr>\n",
       "      <th>1</th>\n",
       "      <td>(1:1:1:2)</td>\n",
       "      <td>somi</td>\n",
       "      <td>N</td>\n",
       "      <td>STEM|POS:N|LEM:{som|ROOT:smw|M|GEN</td>\n",
       "    </tr>\n",
       "    <tr>\n",
       "      <th>2</th>\n",
       "      <td>(1:1:2:1)</td>\n",
       "      <td>{ll~ahi</td>\n",
       "      <td>PN</td>\n",
       "      <td>STEM|POS:PN|LEM:{ll~ah|ROOT:Alh|GEN</td>\n",
       "    </tr>\n",
       "    <tr>\n",
       "      <th>4</th>\n",
       "      <td>(1:1:3:2)</td>\n",
       "      <td>r~aHoma`ni</td>\n",
       "      <td>ADJ</td>\n",
       "      <td>STEM|POS:ADJ|LEM:r~aHoma`n|ROOT:rHm|MS|GEN</td>\n",
       "    </tr>\n",
       "  </tbody>\n",
       "</table>\n",
       "</div>"
      ],
      "text/plain": [
       "    LOCATION        FORM  TAG                                    FEATURES\n",
       "1  (1:1:1:2)        somi    N          STEM|POS:N|LEM:{som|ROOT:smw|M|GEN\n",
       "2  (1:1:2:1)     {ll~ahi   PN         STEM|POS:PN|LEM:{ll~ah|ROOT:Alh|GEN\n",
       "4  (1:1:3:2)  r~aHoma`ni  ADJ  STEM|POS:ADJ|LEM:r~aHoma`n|ROOT:rHm|MS|GEN"
      ]
     },
     "execution_count": 221,
     "metadata": {},
     "output_type": "execute_result"
    }
   ],
   "source": [
    "qdforiginal[qdforiginal.FEATURES.str.contains('ROOT:')].head(3)"
   ]
  },
  {
   "cell_type": "markdown",
   "metadata": {},
   "source": [
    "To ensure some random sampling, I can always use `sample()` method as follows. I will name this sample as `qsample`."
   ]
  },
  {
   "cell_type": "code",
   "execution_count": 42,
   "metadata": {},
   "outputs": [
    {
     "data": {
      "text/html": [
       "<div>\n",
       "<style scoped>\n",
       "    .dataframe tbody tr th:only-of-type {\n",
       "        vertical-align: middle;\n",
       "    }\n",
       "\n",
       "    .dataframe tbody tr th {\n",
       "        vertical-align: top;\n",
       "    }\n",
       "\n",
       "    .dataframe thead th {\n",
       "        text-align: right;\n",
       "    }\n",
       "</style>\n",
       "<table border=\"1\" class=\"dataframe\">\n",
       "  <thead>\n",
       "    <tr style=\"text-align: right;\">\n",
       "      <th></th>\n",
       "      <th>LOCATION</th>\n",
       "      <th>FORM</th>\n",
       "      <th>TAG</th>\n",
       "      <th>FEATURES</th>\n",
       "    </tr>\n",
       "  </thead>\n",
       "  <tbody>\n",
       "    <tr>\n",
       "      <th>46292</th>\n",
       "      <td>(10:89:3:1)</td>\n",
       "      <td>&gt;ujiybat</td>\n",
       "      <td>V</td>\n",
       "      <td>STEM|POS:V|PERF|PASS|(IV)|LEM:&gt;ujiybat|ROOT:jw...</td>\n",
       "    </tr>\n",
       "    <tr>\n",
       "      <th>37295</th>\n",
       "      <td>(7:193:7:1)</td>\n",
       "      <td>sawaA^'N</td>\n",
       "      <td>N</td>\n",
       "      <td>STEM|POS:N|LEM:sawaA^'|ROOT:swy|M|INDEF|NOM</td>\n",
       "    </tr>\n",
       "    <tr>\n",
       "      <th>30207</th>\n",
       "      <td>(6:118:9:2)</td>\n",
       "      <td>_#aAya`ti</td>\n",
       "      <td>N</td>\n",
       "      <td>STEM|POS:N|LEM:'aAyap|ROOT:Ayy|FP|GEN</td>\n",
       "    </tr>\n",
       "    <tr>\n",
       "      <th>94595</th>\n",
       "      <td>(36:43:2:1)</td>\n",
       "      <td>n~a$a&gt;o</td>\n",
       "      <td>V</td>\n",
       "      <td>STEM|POS:V|IMPF|LEM:$aA^'a|ROOT:$yA|1P|MOOD:JUS</td>\n",
       "    </tr>\n",
       "    <tr>\n",
       "      <th>51228</th>\n",
       "      <td>(12:48:13:1)</td>\n",
       "      <td>qaliylFA</td>\n",
       "      <td>N</td>\n",
       "      <td>STEM|POS:N|LEM:qaliyl|ROOT:qll|MS|INDEF|ACC</td>\n",
       "    </tr>\n",
       "    <tr>\n",
       "      <th>107812</th>\n",
       "      <td>(46:17:28:2)</td>\n",
       "      <td>&gt;aw~aliyna</td>\n",
       "      <td>N</td>\n",
       "      <td>STEM|POS:N|LEM:&gt;aw~al|ROOT:Awl|MP|GEN</td>\n",
       "    </tr>\n",
       "    <tr>\n",
       "      <th>87207</th>\n",
       "      <td>(30:38:16:2)</td>\n",
       "      <td>mufoliHuwna</td>\n",
       "      <td>N</td>\n",
       "      <td>STEM|POS:N|ACT|PCPL|(IV)|LEM:mufoliHuwn|ROOT:f...</td>\n",
       "    </tr>\n",
       "    <tr>\n",
       "      <th>78161</th>\n",
       "      <td>(25:74:8:2)</td>\n",
       "      <td>*ur~iy~a`ti</td>\n",
       "      <td>N</td>\n",
       "      <td>STEM|POS:N|LEM:*ur~iy~a`t|ROOT:*rr|FP|GEN</td>\n",
       "    </tr>\n",
       "    <tr>\n",
       "      <th>123443</th>\n",
       "      <td>(74:41:2:2)</td>\n",
       "      <td>mujorimiyna</td>\n",
       "      <td>N</td>\n",
       "      <td>STEM|POS:N|ACT|PCPL|(IV)|LEM:mujorim|ROOT:jrm|...</td>\n",
       "    </tr>\n",
       "    <tr>\n",
       "      <th>68794</th>\n",
       "      <td>(21:1:3:1)</td>\n",
       "      <td>HisaAbu</td>\n",
       "      <td>N</td>\n",
       "      <td>STEM|POS:N|VN|(III)|LEM:HisaAb|ROOT:Hsb|M|NOM</td>\n",
       "    </tr>\n",
       "  </tbody>\n",
       "</table>\n",
       "</div>"
      ],
      "text/plain": [
       "            LOCATION         FORM TAG  \\\n",
       "46292    (10:89:3:1)     >ujiybat   V   \n",
       "37295    (7:193:7:1)     sawaA^'N   N   \n",
       "30207    (6:118:9:2)    _#aAya`ti   N   \n",
       "94595    (36:43:2:1)      n~a$a>o   V   \n",
       "51228   (12:48:13:1)     qaliylFA   N   \n",
       "107812  (46:17:28:2)   >aw~aliyna   N   \n",
       "87207   (30:38:16:2)  mufoliHuwna   N   \n",
       "78161    (25:74:8:2)  *ur~iy~a`ti   N   \n",
       "123443   (74:41:2:2)  mujorimiyna   N   \n",
       "68794     (21:1:3:1)      HisaAbu   N   \n",
       "\n",
       "                                                 FEATURES  \n",
       "46292   STEM|POS:V|PERF|PASS|(IV)|LEM:>ujiybat|ROOT:jw...  \n",
       "37295         STEM|POS:N|LEM:sawaA^'|ROOT:swy|M|INDEF|NOM  \n",
       "30207               STEM|POS:N|LEM:'aAyap|ROOT:Ayy|FP|GEN  \n",
       "94595     STEM|POS:V|IMPF|LEM:$aA^'a|ROOT:$yA|1P|MOOD:JUS  \n",
       "51228         STEM|POS:N|LEM:qaliyl|ROOT:qll|MS|INDEF|ACC  \n",
       "107812              STEM|POS:N|LEM:>aw~al|ROOT:Awl|MP|GEN  \n",
       "87207   STEM|POS:N|ACT|PCPL|(IV)|LEM:mufoliHuwn|ROOT:f...  \n",
       "78161           STEM|POS:N|LEM:*ur~iy~a`t|ROOT:*rr|FP|GEN  \n",
       "123443  STEM|POS:N|ACT|PCPL|(IV)|LEM:mujorim|ROOT:jrm|...  \n",
       "68794       STEM|POS:N|VN|(III)|LEM:HisaAb|ROOT:Hsb|M|NOM  "
      ]
     },
     "execution_count": 42,
     "metadata": {},
     "output_type": "execute_result"
    }
   ],
   "source": [
    "qsample = qdforiginal[qdforiginal.FEATURES.str.contains('ROOT:')].sample(10); qsample"
   ]
  },
  {
   "cell_type": "markdown",
   "metadata": {},
   "source": [
    "My intention is to split the `LOCATION` column into four columns, and then the `FEATURES` column into a column for Root and another for Lemma."
   ]
  },
  {
   "cell_type": "markdown",
   "metadata": {},
   "source": [
    "First, I am going to split the first column `LOCATION` into four columns. This is done through the `extract` function of the string which can take a `regular expression`. The `?P<...>` construct within the regular expression creates columns with these names."
   ]
  },
  {
   "cell_type": "code",
   "execution_count": 43,
   "metadata": {},
   "outputs": [
    {
     "data": {
      "text/html": [
       "<div>\n",
       "<style scoped>\n",
       "    .dataframe tbody tr th:only-of-type {\n",
       "        vertical-align: middle;\n",
       "    }\n",
       "\n",
       "    .dataframe tbody tr th {\n",
       "        vertical-align: top;\n",
       "    }\n",
       "\n",
       "    .dataframe thead th {\n",
       "        text-align: right;\n",
       "    }\n",
       "</style>\n",
       "<table border=\"1\" class=\"dataframe\">\n",
       "  <thead>\n",
       "    <tr style=\"text-align: right;\">\n",
       "      <th></th>\n",
       "      <th>sura</th>\n",
       "      <th>aya</th>\n",
       "      <th>word</th>\n",
       "      <th>w_seg</th>\n",
       "    </tr>\n",
       "  </thead>\n",
       "  <tbody>\n",
       "    <tr>\n",
       "      <th>46292</th>\n",
       "      <td>10</td>\n",
       "      <td>89</td>\n",
       "      <td>3</td>\n",
       "      <td>1</td>\n",
       "    </tr>\n",
       "    <tr>\n",
       "      <th>37295</th>\n",
       "      <td>7</td>\n",
       "      <td>193</td>\n",
       "      <td>7</td>\n",
       "      <td>1</td>\n",
       "    </tr>\n",
       "    <tr>\n",
       "      <th>30207</th>\n",
       "      <td>6</td>\n",
       "      <td>118</td>\n",
       "      <td>9</td>\n",
       "      <td>2</td>\n",
       "    </tr>\n",
       "    <tr>\n",
       "      <th>94595</th>\n",
       "      <td>36</td>\n",
       "      <td>43</td>\n",
       "      <td>2</td>\n",
       "      <td>1</td>\n",
       "    </tr>\n",
       "    <tr>\n",
       "      <th>51228</th>\n",
       "      <td>12</td>\n",
       "      <td>48</td>\n",
       "      <td>13</td>\n",
       "      <td>1</td>\n",
       "    </tr>\n",
       "    <tr>\n",
       "      <th>107812</th>\n",
       "      <td>46</td>\n",
       "      <td>17</td>\n",
       "      <td>28</td>\n",
       "      <td>2</td>\n",
       "    </tr>\n",
       "    <tr>\n",
       "      <th>87207</th>\n",
       "      <td>30</td>\n",
       "      <td>38</td>\n",
       "      <td>16</td>\n",
       "      <td>2</td>\n",
       "    </tr>\n",
       "    <tr>\n",
       "      <th>78161</th>\n",
       "      <td>25</td>\n",
       "      <td>74</td>\n",
       "      <td>8</td>\n",
       "      <td>2</td>\n",
       "    </tr>\n",
       "    <tr>\n",
       "      <th>123443</th>\n",
       "      <td>74</td>\n",
       "      <td>41</td>\n",
       "      <td>2</td>\n",
       "      <td>2</td>\n",
       "    </tr>\n",
       "    <tr>\n",
       "      <th>68794</th>\n",
       "      <td>21</td>\n",
       "      <td>1</td>\n",
       "      <td>3</td>\n",
       "      <td>1</td>\n",
       "    </tr>\n",
       "  </tbody>\n",
       "</table>\n",
       "</div>"
      ],
      "text/plain": [
       "       sura  aya word w_seg\n",
       "46292    10   89    3     1\n",
       "37295     7  193    7     1\n",
       "30207     6  118    9     2\n",
       "94595    36   43    2     1\n",
       "51228    12   48   13     1\n",
       "107812   46   17   28     2\n",
       "87207    30   38   16     2\n",
       "78161    25   74    8     2\n",
       "123443   74   41    2     2\n",
       "68794    21    1    3     1"
      ]
     },
     "execution_count": 43,
     "metadata": {},
     "output_type": "execute_result"
    }
   ],
   "source": [
    "tmp1 = qsample.LOCATION.str.extract(r'(?P<sura>\\d*):(?P<aya>\\d*):(?P<word>\\d*):(?P<w_seg>\\d*)'); tmp1"
   ]
  },
  {
   "cell_type": "markdown",
   "metadata": {},
   "source": [
    "Now, let us extract the roots from the `FEATURES` column in the same way."
   ]
  },
  {
   "cell_type": "code",
   "execution_count": 44,
   "metadata": {},
   "outputs": [
    {
     "data": {
      "text/html": [
       "<div>\n",
       "<style scoped>\n",
       "    .dataframe tbody tr th:only-of-type {\n",
       "        vertical-align: middle;\n",
       "    }\n",
       "\n",
       "    .dataframe tbody tr th {\n",
       "        vertical-align: top;\n",
       "    }\n",
       "\n",
       "    .dataframe thead th {\n",
       "        text-align: right;\n",
       "    }\n",
       "</style>\n",
       "<table border=\"1\" class=\"dataframe\">\n",
       "  <thead>\n",
       "    <tr style=\"text-align: right;\">\n",
       "      <th></th>\n",
       "      <th>Root</th>\n",
       "    </tr>\n",
       "  </thead>\n",
       "  <tbody>\n",
       "    <tr>\n",
       "      <th>46292</th>\n",
       "      <td>jwb</td>\n",
       "    </tr>\n",
       "    <tr>\n",
       "      <th>37295</th>\n",
       "      <td>swy</td>\n",
       "    </tr>\n",
       "    <tr>\n",
       "      <th>30207</th>\n",
       "      <td>Ayy</td>\n",
       "    </tr>\n",
       "    <tr>\n",
       "      <th>94595</th>\n",
       "      <td>$yA</td>\n",
       "    </tr>\n",
       "    <tr>\n",
       "      <th>51228</th>\n",
       "      <td>qll</td>\n",
       "    </tr>\n",
       "    <tr>\n",
       "      <th>107812</th>\n",
       "      <td>Awl</td>\n",
       "    </tr>\n",
       "    <tr>\n",
       "      <th>87207</th>\n",
       "      <td>flH</td>\n",
       "    </tr>\n",
       "    <tr>\n",
       "      <th>78161</th>\n",
       "      <td>*rr</td>\n",
       "    </tr>\n",
       "    <tr>\n",
       "      <th>123443</th>\n",
       "      <td>jrm</td>\n",
       "    </tr>\n",
       "    <tr>\n",
       "      <th>68794</th>\n",
       "      <td>Hsb</td>\n",
       "    </tr>\n",
       "  </tbody>\n",
       "</table>\n",
       "</div>"
      ],
      "text/plain": [
       "       Root\n",
       "46292   jwb\n",
       "37295   swy\n",
       "30207   Ayy\n",
       "94595   $yA\n",
       "51228   qll\n",
       "107812  Awl\n",
       "87207   flH\n",
       "78161   *rr\n",
       "123443  jrm\n",
       "68794   Hsb"
      ]
     },
     "execution_count": 44,
     "metadata": {},
     "output_type": "execute_result"
    }
   ],
   "source": [
    "tmp2 = qsample.FEATURES.str.extract(r'ROOT:(?P<Root>[^|]*)'); tmp2"
   ]
  },
  {
   "cell_type": "markdown",
   "metadata": {},
   "source": [
    "Similarly, I want to extract **Lemmas** as well. "
   ]
  },
  {
   "cell_type": "code",
   "execution_count": 45,
   "metadata": {},
   "outputs": [
    {
     "data": {
      "text/html": [
       "<div>\n",
       "<style scoped>\n",
       "    .dataframe tbody tr th:only-of-type {\n",
       "        vertical-align: middle;\n",
       "    }\n",
       "\n",
       "    .dataframe tbody tr th {\n",
       "        vertical-align: top;\n",
       "    }\n",
       "\n",
       "    .dataframe thead th {\n",
       "        text-align: right;\n",
       "    }\n",
       "</style>\n",
       "<table border=\"1\" class=\"dataframe\">\n",
       "  <thead>\n",
       "    <tr style=\"text-align: right;\">\n",
       "      <th></th>\n",
       "      <th>Lemma</th>\n",
       "    </tr>\n",
       "  </thead>\n",
       "  <tbody>\n",
       "    <tr>\n",
       "      <th>46292</th>\n",
       "      <td>&gt;ujiybat</td>\n",
       "    </tr>\n",
       "    <tr>\n",
       "      <th>37295</th>\n",
       "      <td>sawaA^'</td>\n",
       "    </tr>\n",
       "    <tr>\n",
       "      <th>30207</th>\n",
       "      <td>'aAyap</td>\n",
       "    </tr>\n",
       "    <tr>\n",
       "      <th>94595</th>\n",
       "      <td>$aA^'a</td>\n",
       "    </tr>\n",
       "    <tr>\n",
       "      <th>51228</th>\n",
       "      <td>qaliyl</td>\n",
       "    </tr>\n",
       "    <tr>\n",
       "      <th>107812</th>\n",
       "      <td>&gt;aw~al</td>\n",
       "    </tr>\n",
       "    <tr>\n",
       "      <th>87207</th>\n",
       "      <td>mufoliHuwn</td>\n",
       "    </tr>\n",
       "    <tr>\n",
       "      <th>78161</th>\n",
       "      <td>*ur~iy~a`t</td>\n",
       "    </tr>\n",
       "    <tr>\n",
       "      <th>123443</th>\n",
       "      <td>mujorim</td>\n",
       "    </tr>\n",
       "    <tr>\n",
       "      <th>68794</th>\n",
       "      <td>HisaAb</td>\n",
       "    </tr>\n",
       "  </tbody>\n",
       "</table>\n",
       "</div>"
      ],
      "text/plain": [
       "             Lemma\n",
       "46292     >ujiybat\n",
       "37295      sawaA^'\n",
       "30207       'aAyap\n",
       "94595       $aA^'a\n",
       "51228       qaliyl\n",
       "107812      >aw~al\n",
       "87207   mufoliHuwn\n",
       "78161   *ur~iy~a`t\n",
       "123443     mujorim\n",
       "68794       HisaAb"
      ]
     },
     "execution_count": 45,
     "metadata": {},
     "output_type": "execute_result"
    }
   ],
   "source": [
    "tmp3 = qsample.FEATURES.str.extract(r'LEM:(?P<Lemma>[^|]*)'); tmp3"
   ]
  },
  {
   "cell_type": "markdown",
   "metadata": {},
   "source": [
    "Finally, all that is left is to cancatenate the orginal sample `qsample` with these three splits `tmp1, tmp2, tmp3`, as follows. The `axis=1` option means that run the concatenation on columns (not rows)."
   ]
  },
  {
   "cell_type": "code",
   "execution_count": 46,
   "metadata": {},
   "outputs": [
    {
     "data": {
      "text/html": [
       "<div>\n",
       "<style scoped>\n",
       "    .dataframe tbody tr th:only-of-type {\n",
       "        vertical-align: middle;\n",
       "    }\n",
       "\n",
       "    .dataframe tbody tr th {\n",
       "        vertical-align: top;\n",
       "    }\n",
       "\n",
       "    .dataframe thead th {\n",
       "        text-align: right;\n",
       "    }\n",
       "</style>\n",
       "<table border=\"1\" class=\"dataframe\">\n",
       "  <thead>\n",
       "    <tr style=\"text-align: right;\">\n",
       "      <th></th>\n",
       "      <th>sura</th>\n",
       "      <th>aya</th>\n",
       "      <th>word</th>\n",
       "      <th>w_seg</th>\n",
       "      <th>LOCATION</th>\n",
       "      <th>FORM</th>\n",
       "      <th>TAG</th>\n",
       "      <th>FEATURES</th>\n",
       "      <th>Root</th>\n",
       "      <th>Lemma</th>\n",
       "    </tr>\n",
       "  </thead>\n",
       "  <tbody>\n",
       "    <tr>\n",
       "      <th>46292</th>\n",
       "      <td>10</td>\n",
       "      <td>89</td>\n",
       "      <td>3</td>\n",
       "      <td>1</td>\n",
       "      <td>(10:89:3:1)</td>\n",
       "      <td>&gt;ujiybat</td>\n",
       "      <td>V</td>\n",
       "      <td>STEM|POS:V|PERF|PASS|(IV)|LEM:&gt;ujiybat|ROOT:jw...</td>\n",
       "      <td>jwb</td>\n",
       "      <td>&gt;ujiybat</td>\n",
       "    </tr>\n",
       "    <tr>\n",
       "      <th>37295</th>\n",
       "      <td>7</td>\n",
       "      <td>193</td>\n",
       "      <td>7</td>\n",
       "      <td>1</td>\n",
       "      <td>(7:193:7:1)</td>\n",
       "      <td>sawaA^'N</td>\n",
       "      <td>N</td>\n",
       "      <td>STEM|POS:N|LEM:sawaA^'|ROOT:swy|M|INDEF|NOM</td>\n",
       "      <td>swy</td>\n",
       "      <td>sawaA^'</td>\n",
       "    </tr>\n",
       "    <tr>\n",
       "      <th>30207</th>\n",
       "      <td>6</td>\n",
       "      <td>118</td>\n",
       "      <td>9</td>\n",
       "      <td>2</td>\n",
       "      <td>(6:118:9:2)</td>\n",
       "      <td>_#aAya`ti</td>\n",
       "      <td>N</td>\n",
       "      <td>STEM|POS:N|LEM:'aAyap|ROOT:Ayy|FP|GEN</td>\n",
       "      <td>Ayy</td>\n",
       "      <td>'aAyap</td>\n",
       "    </tr>\n",
       "    <tr>\n",
       "      <th>94595</th>\n",
       "      <td>36</td>\n",
       "      <td>43</td>\n",
       "      <td>2</td>\n",
       "      <td>1</td>\n",
       "      <td>(36:43:2:1)</td>\n",
       "      <td>n~a$a&gt;o</td>\n",
       "      <td>V</td>\n",
       "      <td>STEM|POS:V|IMPF|LEM:$aA^'a|ROOT:$yA|1P|MOOD:JUS</td>\n",
       "      <td>$yA</td>\n",
       "      <td>$aA^'a</td>\n",
       "    </tr>\n",
       "    <tr>\n",
       "      <th>51228</th>\n",
       "      <td>12</td>\n",
       "      <td>48</td>\n",
       "      <td>13</td>\n",
       "      <td>1</td>\n",
       "      <td>(12:48:13:1)</td>\n",
       "      <td>qaliylFA</td>\n",
       "      <td>N</td>\n",
       "      <td>STEM|POS:N|LEM:qaliyl|ROOT:qll|MS|INDEF|ACC</td>\n",
       "      <td>qll</td>\n",
       "      <td>qaliyl</td>\n",
       "    </tr>\n",
       "    <tr>\n",
       "      <th>107812</th>\n",
       "      <td>46</td>\n",
       "      <td>17</td>\n",
       "      <td>28</td>\n",
       "      <td>2</td>\n",
       "      <td>(46:17:28:2)</td>\n",
       "      <td>&gt;aw~aliyna</td>\n",
       "      <td>N</td>\n",
       "      <td>STEM|POS:N|LEM:&gt;aw~al|ROOT:Awl|MP|GEN</td>\n",
       "      <td>Awl</td>\n",
       "      <td>&gt;aw~al</td>\n",
       "    </tr>\n",
       "    <tr>\n",
       "      <th>87207</th>\n",
       "      <td>30</td>\n",
       "      <td>38</td>\n",
       "      <td>16</td>\n",
       "      <td>2</td>\n",
       "      <td>(30:38:16:2)</td>\n",
       "      <td>mufoliHuwna</td>\n",
       "      <td>N</td>\n",
       "      <td>STEM|POS:N|ACT|PCPL|(IV)|LEM:mufoliHuwn|ROOT:f...</td>\n",
       "      <td>flH</td>\n",
       "      <td>mufoliHuwn</td>\n",
       "    </tr>\n",
       "    <tr>\n",
       "      <th>78161</th>\n",
       "      <td>25</td>\n",
       "      <td>74</td>\n",
       "      <td>8</td>\n",
       "      <td>2</td>\n",
       "      <td>(25:74:8:2)</td>\n",
       "      <td>*ur~iy~a`ti</td>\n",
       "      <td>N</td>\n",
       "      <td>STEM|POS:N|LEM:*ur~iy~a`t|ROOT:*rr|FP|GEN</td>\n",
       "      <td>*rr</td>\n",
       "      <td>*ur~iy~a`t</td>\n",
       "    </tr>\n",
       "    <tr>\n",
       "      <th>123443</th>\n",
       "      <td>74</td>\n",
       "      <td>41</td>\n",
       "      <td>2</td>\n",
       "      <td>2</td>\n",
       "      <td>(74:41:2:2)</td>\n",
       "      <td>mujorimiyna</td>\n",
       "      <td>N</td>\n",
       "      <td>STEM|POS:N|ACT|PCPL|(IV)|LEM:mujorim|ROOT:jrm|...</td>\n",
       "      <td>jrm</td>\n",
       "      <td>mujorim</td>\n",
       "    </tr>\n",
       "    <tr>\n",
       "      <th>68794</th>\n",
       "      <td>21</td>\n",
       "      <td>1</td>\n",
       "      <td>3</td>\n",
       "      <td>1</td>\n",
       "      <td>(21:1:3:1)</td>\n",
       "      <td>HisaAbu</td>\n",
       "      <td>N</td>\n",
       "      <td>STEM|POS:N|VN|(III)|LEM:HisaAb|ROOT:Hsb|M|NOM</td>\n",
       "      <td>Hsb</td>\n",
       "      <td>HisaAb</td>\n",
       "    </tr>\n",
       "  </tbody>\n",
       "</table>\n",
       "</div>"
      ],
      "text/plain": [
       "       sura  aya word w_seg      LOCATION         FORM TAG  \\\n",
       "46292    10   89    3     1   (10:89:3:1)     >ujiybat   V   \n",
       "37295     7  193    7     1   (7:193:7:1)     sawaA^'N   N   \n",
       "30207     6  118    9     2   (6:118:9:2)    _#aAya`ti   N   \n",
       "94595    36   43    2     1   (36:43:2:1)      n~a$a>o   V   \n",
       "51228    12   48   13     1  (12:48:13:1)     qaliylFA   N   \n",
       "107812   46   17   28     2  (46:17:28:2)   >aw~aliyna   N   \n",
       "87207    30   38   16     2  (30:38:16:2)  mufoliHuwna   N   \n",
       "78161    25   74    8     2   (25:74:8:2)  *ur~iy~a`ti   N   \n",
       "123443   74   41    2     2   (74:41:2:2)  mujorimiyna   N   \n",
       "68794    21    1    3     1    (21:1:3:1)      HisaAbu   N   \n",
       "\n",
       "                                                 FEATURES Root       Lemma  \n",
       "46292   STEM|POS:V|PERF|PASS|(IV)|LEM:>ujiybat|ROOT:jw...  jwb    >ujiybat  \n",
       "37295         STEM|POS:N|LEM:sawaA^'|ROOT:swy|M|INDEF|NOM  swy     sawaA^'  \n",
       "30207               STEM|POS:N|LEM:'aAyap|ROOT:Ayy|FP|GEN  Ayy      'aAyap  \n",
       "94595     STEM|POS:V|IMPF|LEM:$aA^'a|ROOT:$yA|1P|MOOD:JUS  $yA      $aA^'a  \n",
       "51228         STEM|POS:N|LEM:qaliyl|ROOT:qll|MS|INDEF|ACC  qll      qaliyl  \n",
       "107812              STEM|POS:N|LEM:>aw~al|ROOT:Awl|MP|GEN  Awl      >aw~al  \n",
       "87207   STEM|POS:N|ACT|PCPL|(IV)|LEM:mufoliHuwn|ROOT:f...  flH  mufoliHuwn  \n",
       "78161           STEM|POS:N|LEM:*ur~iy~a`t|ROOT:*rr|FP|GEN  *rr  *ur~iy~a`t  \n",
       "123443  STEM|POS:N|ACT|PCPL|(IV)|LEM:mujorim|ROOT:jrm|...  jrm     mujorim  \n",
       "68794       STEM|POS:N|VN|(III)|LEM:HisaAb|ROOT:Hsb|M|NOM  Hsb      HisaAb  "
      ]
     },
     "execution_count": 46,
     "metadata": {},
     "output_type": "execute_result"
    }
   ],
   "source": [
    "pd.concat([tmp1, qsample, tmp2,tmp3], axis=1)"
   ]
  },
  {
   "cell_type": "markdown",
   "metadata": {},
   "source": [
    "Now that we ran the experiment successfully with the sample, let us repeat it on the actual file `qdforiginal`"
   ]
  },
  {
   "cell_type": "code",
   "execution_count": 50,
   "metadata": {},
   "outputs": [],
   "source": [
    "tmp1 = qdforiginal.LOCATION.str.extract(r'(?P<sura>\\d*):(?P<aya>\\d*):(?P<word>\\d*):(?P<w_seg>\\d*)')\n",
    "tmp2 = qdforiginal.FEATURES.str.extract(r'ROOT:(?P<Root>[^|]*)')\n",
    "tmp3 = qdforiginal.FEATURES.str.extract(r'LEM:(?P<Lemma>[^|]*)')\n",
    "df_qruan = pd.concat([tmp1, qdforiginal, tmp2,tmp3], axis=1)"
   ]
  },
  {
   "cell_type": "markdown",
   "metadata": {},
   "source": [
    "To confirm the shape of the new dataframe `df_qruan` I can use the `shape` attribute, also I can display randomly some rows."
   ]
  },
  {
   "cell_type": "code",
   "execution_count": 51,
   "metadata": {},
   "outputs": [
    {
     "data": {
      "text/plain": [
       "(128219, 10)"
      ]
     },
     "execution_count": 51,
     "metadata": {},
     "output_type": "execute_result"
    }
   ],
   "source": [
    "df_qruan.shape"
   ]
  },
  {
   "cell_type": "code",
   "execution_count": 222,
   "metadata": {},
   "outputs": [
    {
     "data": {
      "text/html": [
       "<div>\n",
       "<style scoped>\n",
       "    .dataframe tbody tr th:only-of-type {\n",
       "        vertical-align: middle;\n",
       "    }\n",
       "\n",
       "    .dataframe tbody tr th {\n",
       "        vertical-align: top;\n",
       "    }\n",
       "\n",
       "    .dataframe thead th {\n",
       "        text-align: right;\n",
       "    }\n",
       "</style>\n",
       "<table border=\"1\" class=\"dataframe\">\n",
       "  <thead>\n",
       "    <tr style=\"text-align: right;\">\n",
       "      <th></th>\n",
       "      <th>sura</th>\n",
       "      <th>aya</th>\n",
       "      <th>word</th>\n",
       "      <th>w_seg</th>\n",
       "      <th>LOCATION</th>\n",
       "      <th>FORM</th>\n",
       "      <th>TAG</th>\n",
       "      <th>FEATURES</th>\n",
       "      <th>Root</th>\n",
       "      <th>Lemma</th>\n",
       "    </tr>\n",
       "  </thead>\n",
       "  <tbody>\n",
       "    <tr>\n",
       "      <th>33209</th>\n",
       "      <td>7</td>\n",
       "      <td>50</td>\n",
       "      <td>19</td>\n",
       "      <td>1</td>\n",
       "      <td>(7:50:19:1)</td>\n",
       "      <td>EalaY</td>\n",
       "      <td>P</td>\n",
       "      <td>STEM|POS:P|LEM:EalaY`</td>\n",
       "      <td>NaN</td>\n",
       "      <td>EalaY`</td>\n",
       "    </tr>\n",
       "    <tr>\n",
       "      <th>26277</th>\n",
       "      <td>5</td>\n",
       "      <td>106</td>\n",
       "      <td>40</td>\n",
       "      <td>1</td>\n",
       "      <td>(5:106:40:1)</td>\n",
       "      <td>wa</td>\n",
       "      <td>REM</td>\n",
       "      <td>PREFIX|w:REM+</td>\n",
       "      <td>NaN</td>\n",
       "      <td>NaN</td>\n",
       "    </tr>\n",
       "    <tr>\n",
       "      <th>61047</th>\n",
       "      <td>17</td>\n",
       "      <td>55</td>\n",
       "      <td>4</td>\n",
       "      <td>1</td>\n",
       "      <td>(17:55:4:1)</td>\n",
       "      <td>fiY</td>\n",
       "      <td>P</td>\n",
       "      <td>STEM|POS:P|LEM:fiY</td>\n",
       "      <td>NaN</td>\n",
       "      <td>fiY</td>\n",
       "    </tr>\n",
       "    <tr>\n",
       "      <th>125339</th>\n",
       "      <td>81</td>\n",
       "      <td>14</td>\n",
       "      <td>1</td>\n",
       "      <td>1</td>\n",
       "      <td>(81:14:1:1)</td>\n",
       "      <td>Ealimato</td>\n",
       "      <td>V</td>\n",
       "      <td>STEM|POS:V|PERF|LEM:Ealima|ROOT:Elm|3FS</td>\n",
       "      <td>Elm</td>\n",
       "      <td>Ealima</td>\n",
       "    </tr>\n",
       "    <tr>\n",
       "      <th>120502</th>\n",
       "      <td>67</td>\n",
       "      <td>19</td>\n",
       "      <td>1</td>\n",
       "      <td>1</td>\n",
       "      <td>(67:19:1:1)</td>\n",
       "      <td>&gt;a</td>\n",
       "      <td>INTG</td>\n",
       "      <td>PREFIX|A:INTG+</td>\n",
       "      <td>NaN</td>\n",
       "      <td>NaN</td>\n",
       "    </tr>\n",
       "  </tbody>\n",
       "</table>\n",
       "</div>"
      ],
      "text/plain": [
       "        sura  aya word w_seg      LOCATION      FORM   TAG  \\\n",
       "33209      7   50   19     1   (7:50:19:1)     EalaY     P   \n",
       "26277      5  106   40     1  (5:106:40:1)        wa   REM   \n",
       "61047     17   55    4     1   (17:55:4:1)       fiY     P   \n",
       "125339    81   14    1     1   (81:14:1:1)  Ealimato     V   \n",
       "120502    67   19    1     1   (67:19:1:1)        >a  INTG   \n",
       "\n",
       "                                       FEATURES Root   Lemma  \n",
       "33209                     STEM|POS:P|LEM:EalaY`  NaN  EalaY`  \n",
       "26277                             PREFIX|w:REM+  NaN     NaN  \n",
       "61047                        STEM|POS:P|LEM:fiY  NaN     fiY  \n",
       "125339  STEM|POS:V|PERF|LEM:Ealima|ROOT:Elm|3FS  Elm  Ealima  \n",
       "120502                           PREFIX|A:INTG+  NaN     NaN  "
      ]
     },
     "execution_count": 222,
     "metadata": {},
     "output_type": "execute_result"
    }
   ],
   "source": [
    "df_qruan.sample(5)"
   ]
  },
  {
   "cell_type": "markdown",
   "metadata": {},
   "source": [
    "It could be possible that our newly introduced columns could have extra spaces which we can get rid of by using the `strip()` method of string as follows."
   ]
  },
  {
   "cell_type": "code",
   "execution_count": 223,
   "metadata": {},
   "outputs": [],
   "source": [
    "quran.Root = quran.Root.str.strip()\n",
    "quran.Lemma = quran.Lemma.str.strip()"
   ]
  },
  {
   "cell_type": "markdown",
   "metadata": {},
   "source": [
    "It is good idea to save this version into a `csv` file. `index=False` avoids unncessesarity including an extra index column in the output file."
   ]
  },
  {
   "cell_type": "code",
   "execution_count": 54,
   "metadata": {},
   "outputs": [],
   "source": [
    "df_qruan.to_csv('quran-morphology-v2.csv', index=False)"
   ]
  },
  {
   "cell_type": "markdown",
   "metadata": {},
   "source": [
    "## join with Meccan/Medinan file"
   ]
  },
  {
   "cell_type": "markdown",
   "metadata": {},
   "source": [
    "It would be very useful to augment our file with a new column that tells me if a sura is Meccan or Medinan. This will later allow to answer question like, **what are the unique root words in the Quran that appear only in Meccan sura?** for example. "
   ]
  },
  {
   "cell_type": "markdown",
   "metadata": {},
   "source": [
    "To do this, I am referring to a table of contents page I created some time back using `Angular` [here](http://textminingthequran.com/toc/)"
   ]
  },
  {
   "cell_type": "markdown",
   "metadata": {},
   "source": [
    "My idea is to go that page, and use mouse to select the table, copy it in the clipboard and then perform the following operation to read the clipboard and create a dataframe `qtoc` as follows."
   ]
  },
  {
   "cell_type": "code",
   "execution_count": 106,
   "metadata": {},
   "outputs": [],
   "source": [
    "qtoc=pd.read_clipboard()"
   ]
  },
  {
   "cell_type": "code",
   "execution_count": 107,
   "metadata": {},
   "outputs": [
    {
     "data": {
      "text/html": [
       "<div>\n",
       "<style scoped>\n",
       "    .dataframe tbody tr th:only-of-type {\n",
       "        vertical-align: middle;\n",
       "    }\n",
       "\n",
       "    .dataframe tbody tr th {\n",
       "        vertical-align: top;\n",
       "    }\n",
       "\n",
       "    .dataframe thead th {\n",
       "        text-align: right;\n",
       "    }\n",
       "</style>\n",
       "<table border=\"1\" class=\"dataframe\">\n",
       "  <thead>\n",
       "    <tr style=\"text-align: right;\">\n",
       "      <th></th>\n",
       "      <th>No.</th>\n",
       "      <th>Name Arabic</th>\n",
       "      <th>Name</th>\n",
       "      <th>English Meaning</th>\n",
       "      <th>No of verses</th>\n",
       "      <th>Place</th>\n",
       "      <th>Chronology</th>\n",
       "    </tr>\n",
       "  </thead>\n",
       "  <tbody>\n",
       "    <tr>\n",
       "      <th>0</th>\n",
       "      <td>1</td>\n",
       "      <td>الفاتحة</td>\n",
       "      <td>Al-Fatiha</td>\n",
       "      <td>The Opening</td>\n",
       "      <td>7</td>\n",
       "      <td>Meccan</td>\n",
       "      <td>5</td>\n",
       "    </tr>\n",
       "    <tr>\n",
       "      <th>1</th>\n",
       "      <td>2</td>\n",
       "      <td>البقرة</td>\n",
       "      <td>Al-Baqara</td>\n",
       "      <td>The Cow</td>\n",
       "      <td>286</td>\n",
       "      <td>Medinan</td>\n",
       "      <td>87</td>\n",
       "    </tr>\n",
       "    <tr>\n",
       "      <th>2</th>\n",
       "      <td>3</td>\n",
       "      <td>آل عمران</td>\n",
       "      <td>Al Imran</td>\n",
       "      <td>The House of Joachim</td>\n",
       "      <td>200</td>\n",
       "      <td>Medinan</td>\n",
       "      <td>89</td>\n",
       "    </tr>\n",
       "    <tr>\n",
       "      <th>3</th>\n",
       "      <td>4</td>\n",
       "      <td>النساء</td>\n",
       "      <td>An-Nisa'</td>\n",
       "      <td>Women</td>\n",
       "      <td>176</td>\n",
       "      <td>Medinan</td>\n",
       "      <td>92</td>\n",
       "    </tr>\n",
       "    <tr>\n",
       "      <th>4</th>\n",
       "      <td>5</td>\n",
       "      <td>المائدة</td>\n",
       "      <td>Al-Ma'ida</td>\n",
       "      <td>The Table Spread</td>\n",
       "      <td>120</td>\n",
       "      <td>Medinan</td>\n",
       "      <td>112</td>\n",
       "    </tr>\n",
       "  </tbody>\n",
       "</table>\n",
       "</div>"
      ],
      "text/plain": [
       "   No. Name Arabic       Name       English Meaning  No of verses    Place  \\\n",
       "0    1     الفاتحة  Al-Fatiha           The Opening             7   Meccan   \n",
       "1    2      البقرة  Al-Baqara               The Cow           286  Medinan   \n",
       "2    3    آل عمران   Al Imran  The House of Joachim           200  Medinan   \n",
       "3    4      النساء   An-Nisa'                 Women           176  Medinan   \n",
       "4    5     المائدة  Al-Ma'ida      The Table Spread           120  Medinan   \n",
       "\n",
       "   Chronology  \n",
       "0           5  \n",
       "1          87  \n",
       "2          89  \n",
       "3          92  \n",
       "4         112  "
      ]
     },
     "execution_count": 107,
     "metadata": {},
     "output_type": "execute_result"
    }
   ],
   "source": [
    "qtoc.head()"
   ]
  },
  {
   "cell_type": "markdown",
   "metadata": {},
   "source": [
    "Again, let me save this dataframe locally."
   ]
  },
  {
   "cell_type": "code",
   "execution_count": 87,
   "metadata": {},
   "outputs": [],
   "source": [
    "qtoc.to_csv('toc.csv', index=False)"
   ]
  },
  {
   "cell_type": "markdown",
   "metadata": {},
   "source": [
    "I will now use the `merge` function to merge our original file `df_qruan` with the `qtoc` on the sura number (which is `sura` in the left `df_qruan` file and `No.` column in the right `qtoc` file. The `left` join is the one that makes sense here. The new dataframe is saved in a `quran`."
   ]
  },
  {
   "cell_type": "code",
   "execution_count": 114,
   "metadata": {},
   "outputs": [],
   "source": [
    "quran = df_qruan.merge(qtoc.loc[:,['No.', 'Place']], how='left', left_on='sura', right_on='No.')"
   ]
  },
  {
   "cell_type": "markdown",
   "metadata": {},
   "source": [
    "I can display few useful information through the `info()` method."
   ]
  },
  {
   "cell_type": "code",
   "execution_count": 115,
   "metadata": {},
   "outputs": [
    {
     "name": "stdout",
     "output_type": "stream",
     "text": [
      "<class 'pandas.core.frame.DataFrame'>\n",
      "Int64Index: 128219 entries, 0 to 128218\n",
      "Data columns (total 12 columns):\n",
      "sura        128219 non-null int64\n",
      "aya         128219 non-null object\n",
      "word        128219 non-null object\n",
      "w_seg       128219 non-null object\n",
      "LOCATION    128219 non-null object\n",
      "FORM        128011 non-null object\n",
      "TAG         128219 non-null object\n",
      "FEATURES    128219 non-null object\n",
      "Root        49968 non-null object\n",
      "Lemma       74608 non-null object\n",
      "No.         128219 non-null int64\n",
      "Place       128219 non-null object\n",
      "dtypes: int64(2), object(10)\n",
      "memory usage: 12.7+ MB\n"
     ]
    }
   ],
   "source": [
    "quran.info()"
   ]
  },
  {
   "cell_type": "markdown",
   "metadata": {},
   "source": [
    "I noticed that I no longer need the `LOCATION` and `No.` column as they are now redundent. So, just drop them."
   ]
  },
  {
   "cell_type": "code",
   "execution_count": 116,
   "metadata": {},
   "outputs": [],
   "source": [
    "quran.drop(columns=['LOCATION','No.'], inplace=True)"
   ]
  },
  {
   "cell_type": "markdown",
   "metadata": {},
   "source": [
    "As usual, here is a local copy of the final file after doing all these setup steps."
   ]
  },
  {
   "cell_type": "code",
   "execution_count": 119,
   "metadata": {},
   "outputs": [],
   "source": [
    "quran.to_csv('quran-morphology-final.csv', index=False)"
   ]
  },
  {
   "cell_type": "markdown",
   "metadata": {},
   "source": [
    "## converting Buckwalter to Arabic"
   ]
  },
  {
   "cell_type": "markdown",
   "metadata": {},
   "source": [
    "Our file contains Quranic words and roots in Buckwalter form, and I wanted a handy function to convert that into Arabic form. Here is how we do it."
   ]
  },
  {
   "cell_type": "markdown",
   "metadata": {},
   "source": [
    "First, referencing [this](http://corpus.quran.com/java/buckwalter.jsp) site, I can construct the followig dictionary of all mappings of unicode symbols into buckwalter as follows. I will call this dictionary `abjad`."
   ]
  },
  {
   "cell_type": "code",
   "execution_count": 226,
   "metadata": {},
   "outputs": [],
   "source": [
    "abjad = {u\"\\u0627\":'A',\n",
    "u\"\\u0628\":'b', u\"\\u062A\":'t', u\"\\u062B\":'v', u\"\\u062C\":'j',\n",
    "u\"\\u062D\":'H', u\"\\u062E\":'x', u\"\\u062F\":'d', u\"\\u0630\":'*', u\"\\u0631\":'r',\n",
    "u\"\\u0632\":'z', u\"\\u0633\":'s', u\"\\u0634\":'$', u\"\\u0635\":'S', u\"\\u0636\":'D',\n",
    "u\"\\u0637\":'T', u\"\\u0638\":'Z', u\"\\u0639\":'E', u\"\\u063A\":'g', u\"\\u0641\":'f',\n",
    "u\"\\u0642\":'q', u\"\\u0643\":'k', u\"\\u0644\":'l', u\"\\u0645\":'m', u\"\\u0646\":'n',\n",
    "u\"\\u0647\":'h', u\"\\u0648\":'w', u\"\\u0649\":'Y', u\"\\u064A\":'y'}"
   ]
  },
  {
   "cell_type": "code",
   "execution_count": 227,
   "metadata": {},
   "outputs": [],
   "source": [
    "abjad[' ']=' '\n",
    "abjad[u\"\\u0621\"] = '\\''\n",
    "abjad[u\"\\u0623\"] = '>'\n",
    "abjad[u\"\\u0625\"] = '<'\n",
    "abjad[u\"\\u0624\"] = '&'\n",
    "abjad[u\"\\u0626\"] = '}'\n",
    "#abjad[u\"\\u0655\"] = '\\'' # Hamza below\n",
    "abjad[u\"\\u0622\"] = '|'\n",
    "abjad[u\"\\u064E\"] = 'a'\n",
    "abjad[u\"\\u064F\"] = 'u'\n",
    "abjad[u\"\\u0650\"] = 'i'\n",
    "abjad[u\"\\u0651\"] = '~'\n",
    "abjad[u\"\\u0652\"] = 'o'\n",
    "abjad[u\"\\u064B\"] = 'F'\n",
    "abjad[u\"\\u064C\"] = 'N'\n",
    "abjad[u\"\\u064D\"] = 'K'\n",
    "abjad[u\"\\u0640\"] = '_'\n",
    "abjad[u\"\\u0670\"] = '`'\n",
    "abjad[u\"\\u0629\"] = 'p'\n",
    "abjad[u\"\\u0653\"] = '^'\n",
    "abjad[u\"\\u0654\"] = '#'\n",
    "abjad[u\"\\u0671\"] = '{'\n",
    "abjad[u\"\\u06DC\"] = ':'\n",
    "abjad[u\"\\u06DF\"] = '@'\n",
    "abjad[u\"\\u0653\"] = '^'\n",
    "abjad[u\"\\u06E0\"] = '\"'\n",
    "abjad[u\"\\u06E2\"] = '['\n",
    "abjad[u\"\\u06E3\"] = ';'\n",
    "abjad[u\"\\u06E5\"] = ','\n",
    "abjad[u\"\\u06E6\"] = '.'\n",
    "abjad[u\"\\u06E8\"] = '!'\n",
    "abjad[u\"\\u06EA\"] = '-'\n",
    "abjad[u\"\\u06EB\"] = '+'\n",
    "abjad[u\"\\u06EC\"] = '%'\n",
    "abjad[u\"\\u06ED\"] = ']'"
   ]
  },
  {
   "cell_type": "markdown",
   "metadata": {},
   "source": [
    "Let us also construct the reverse dictionary called `alphabet` that maps the bucwalter symbols back to unicode and hence can display Arabic words. "
   ]
  },
  {
   "cell_type": "code",
   "execution_count": 228,
   "metadata": {},
   "outputs": [],
   "source": [
    "# Create the reverse\n",
    "alphabet = {}\n",
    "for key in abjad:\n",
    "    alphabet[abjad[key]] = key"
   ]
  },
  {
   "cell_type": "markdown",
   "metadata": {},
   "source": [
    "Using these two dictionaries, we can always convert a string from one form to other using the following two handy functions."
   ]
  },
  {
   "cell_type": "code",
   "execution_count": 229,
   "metadata": {},
   "outputs": [],
   "source": [
    "def arabic_to_buc(ara):\n",
    "    return ''.join(map(lambda x:abjad[x], list(ara)))\n",
    "\n",
    "def buck_to_arabic(buc):\n",
    "    return ''.join(map(lambda x:alphabet[x], list(buc)))"
   ]
  },
  {
   "cell_type": "markdown",
   "metadata": {},
   "source": [
    "Here is a small test."
   ]
  },
  {
   "cell_type": "code",
   "execution_count": 230,
   "metadata": {},
   "outputs": [
    {
     "data": {
      "text/plain": [
       "'عَلَىٰ'"
      ]
     },
     "execution_count": 230,
     "metadata": {},
     "output_type": "execute_result"
    }
   ],
   "source": [
    "buck_to_arabic('EalaY`')"
   ]
  },
  {
   "cell_type": "code",
   "execution_count": 231,
   "metadata": {},
   "outputs": [
    {
     "data": {
      "text/plain": [
       "'AlHmd llh'"
      ]
     },
     "execution_count": 231,
     "metadata": {},
     "output_type": "execute_result"
    }
   ],
   "source": [
    "arabic_to_buc('الحمد لله')"
   ]
  },
  {
   "cell_type": "markdown",
   "metadata": {},
   "source": [
    "## counting roots"
   ]
  },
  {
   "cell_type": "markdown",
   "metadata": {},
   "source": [
    "Now it is time to get into the core of our query: **What are the unique root words that appear in Meccan sura, but not in the Medinan surah?**"
   ]
  },
  {
   "cell_type": "markdown",
   "metadata": {},
   "source": [
    "As we saw before, we can: (1) filter a dataframe by logical checks like `quran.Place== 'Meccan'`. With that we (2) get set of all Meccan words, (3) then we select only the `Root` column, (4) then we run the `unique()` method to get an array of unique words which we can (5) then convert to list using `tolist()` function. Finally (6) we wrap the whole thing to a `set()` function, and hence we get the set of Meccan unique root words called `k` here. So, note how through chaining I could perform six operations into one. "
   ]
  },
  {
   "cell_type": "code",
   "execution_count": 126,
   "metadata": {},
   "outputs": [],
   "source": [
    "k = set(quran[quran.Place == 'Meccan'].Root.unique().tolist())"
   ]
  },
  {
   "cell_type": "markdown",
   "metadata": {},
   "source": [
    "With the same logic, we produce the unique list of Medinan words in a set called `d`."
   ]
  },
  {
   "cell_type": "code",
   "execution_count": 127,
   "metadata": {},
   "outputs": [],
   "source": [
    "d = set(quran[quran.Place == 'Medinan'].Root.unique().tolist())"
   ]
  },
  {
   "cell_type": "markdown",
   "metadata": {},
   "source": [
    "With this we can now remove the roots from Meccan list that are also in the Medinan, but the following set operation. We find out that there are 547 of such words, and 198 Medinan only words, and 898 root words appear in both."
   ]
  },
  {
   "cell_type": "code",
   "execution_count": 158,
   "metadata": {},
   "outputs": [
    {
     "data": {
      "text/plain": [
       "547"
      ]
     },
     "execution_count": 158,
     "metadata": {},
     "output_type": "execute_result"
    }
   ],
   "source": [
    "makki_words = k-d; len(makki_words)"
   ]
  },
  {
   "cell_type": "code",
   "execution_count": 159,
   "metadata": {},
   "outputs": [
    {
     "data": {
      "text/plain": [
       "198"
      ]
     },
     "execution_count": 159,
     "metadata": {},
     "output_type": "execute_result"
    }
   ],
   "source": [
    "madani_words = d - k; len(madani_words)"
   ]
  },
  {
   "cell_type": "code",
   "execution_count": 160,
   "metadata": {},
   "outputs": [],
   "source": [
    "both = k & d"
   ]
  },
  {
   "cell_type": "code",
   "execution_count": 161,
   "metadata": {},
   "outputs": [
    {
     "data": {
      "text/plain": [
       "898"
      ]
     },
     "execution_count": 161,
     "metadata": {},
     "output_type": "execute_result"
    }
   ],
   "source": [
    "len(both)"
   ]
  },
  {
   "cell_type": "markdown",
   "metadata": {},
   "source": [
    "We now have at our hand all nuts and bolts to define two useful functions as follows."
   ]
  },
  {
   "cell_type": "markdown",
   "metadata": {},
   "source": [
    "Our first function is `sura_words`. It takes as input a list of sura numbers (for example `[113,114]` means sura 113 and 114). It also takes which kind of unique words we want to find for this list of sura: `W` is the default word list, `R` is the Root list and `L` is the Lemma list. Not how we use the `isin()` method to filter the dataframe on only the list of sura we provide. Also note the `dropna()` function to drop the `null` values from the list. Finally note how we are returnting Arabic form of the final resuls using the `buck_to_arabic()` function we defined earlier."
   ]
  },
  {
   "cell_type": "code",
   "execution_count": 224,
   "metadata": {},
   "outputs": [],
   "source": [
    "# function to return words given a list of sura\n",
    "def sura_words(s_list, kind='W'):\n",
    "    if (kind=='R'):\n",
    "        result = quran[quran.sura.isin(s_list)].Root.dropna().unique().tolist()\n",
    "    elif (kind=='L'):\n",
    "        result = quran[quran.sura.isin(s_list)].Lemma.dropna().unique().tolist()\n",
    "    else:\n",
    "        result = quran[quran.sura.isin(s_list)].FORM.unique().tolist()\n",
    "    return [buck_to_arabic(x) for x in result]"
   ]
  },
  {
   "cell_type": "markdown",
   "metadata": {},
   "source": [
    "Here is a test on `Lemma` words of suran No. 111."
   ]
  },
  {
   "cell_type": "code",
   "execution_count": 225,
   "metadata": {},
   "outputs": [
    {
     "data": {
      "text/plain": [
       "['تَبَّ',\n",
       " 'يَد',\n",
       " 'أَبٌ',\n",
       " 'لَهَب',\n",
       " 'مَا',\n",
       " 'أَغْنَىٰ',\n",
       " 'عَن',\n",
       " 'مَال',\n",
       " 'كَسَبَ',\n",
       " 'يَصْلَى',\n",
       " 'نَار',\n",
       " 'ذُو',\n",
       " 'ٱمْرَأَت',\n",
       " 'حَمَّالَة',\n",
       " 'حَطَب',\n",
       " 'فِى',\n",
       " 'جِيد',\n",
       " 'حَبْل',\n",
       " 'مِن',\n",
       " 'مَّسَد']"
      ]
     },
     "execution_count": 225,
     "metadata": {},
     "output_type": "execute_result"
    }
   ],
   "source": [
    "sura_words([111],'L')"
   ]
  },
  {
   "cell_type": "markdown",
   "metadata": {},
   "source": [
    "The above function can have lots of utilities. Among them you may want to increase your Quranic vocabulary gradually by memorizing roots of one sura at a time. This function conviniently will give you the unique list of roots (or lemmas, or just words)."
   ]
  },
  {
   "cell_type": "markdown",
   "metadata": {},
   "source": [
    "With a small variation and exploiting the set operations, we can define another function called `unique_sura_words` that again takes a list of sura and returns root (or lemma or raw words) that appears only in this list of suras. Note the `~` operator to negate a condition. So `~quran.sura.isin([113,114])` means all sura except 113 and 114. "
   ]
  },
  {
   "cell_type": "code",
   "execution_count": 214,
   "metadata": {},
   "outputs": [],
   "source": [
    "# function to return words given a list of sura\n",
    "def unique_sura_words(s_list, kind='W'):\n",
    "    if (kind=='R'):\n",
    "        first = quran[quran.sura.isin(s_list)].Root.dropna().unique().tolist()\n",
    "        second = quran[~quran.sura.isin(s_list)].Root.dropna().unique().tolist()\n",
    "        result = list(set(first)-set(second))\n",
    "    elif (kind=='L'):\n",
    "        first = quran[quran.sura.isin(s_list)].Lemma.dropna().unique().tolist()\n",
    "        second = quran[~quran.sura.isin(s_list)].Lemma.dropna().unique().tolist()\n",
    "        result = list(set(first)-set(second))\n",
    "    else:\n",
    "        first = quran[quran.sura.isin(s_list)].FORM.dropna().unique().tolist()\n",
    "        second = quran[~quran.sura.isin(s_list)].FORM.dropna().unique().tolist()\n",
    "        result = list(set(first)-set(second))\n",
    "    return [buck_to_arabic(x) for x in result]"
   ]
  },
  {
   "cell_type": "markdown",
   "metadata": {},
   "source": [
    "Using this function we know that sura 113 has these two root words that can be found no where else in the Quran."
   ]
  },
  {
   "cell_type": "code",
   "execution_count": 233,
   "metadata": {},
   "outputs": [
    {
     "data": {
      "text/plain": [
       "['نفث', 'وقب']"
      ]
     },
     "execution_count": 233,
     "metadata": {},
     "output_type": "execute_result"
    }
   ],
   "source": [
    "unique_sura_words([113],'R')"
   ]
  },
  {
   "cell_type": "code",
   "execution_count": null,
   "metadata": {},
   "outputs": [],
   "source": []
  }
 ],
 "metadata": {
  "kernelspec": {
   "display_name": "Python 3",
   "language": "python",
   "name": "python3"
  },
  "language_info": {
   "codemirror_mode": {
    "name": "ipython",
    "version": 3
   },
   "file_extension": ".py",
   "mimetype": "text/x-python",
   "name": "python",
   "nbconvert_exporter": "python",
   "pygments_lexer": "ipython3",
   "version": "3.7.2"
  }
 },
 "nbformat": 4,
 "nbformat_minor": 2
}
